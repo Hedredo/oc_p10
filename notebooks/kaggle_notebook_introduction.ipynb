{
 "cells": [
  {
   "cell_type": "markdown",
   "metadata": {},
   "source": [
    "Voici un résumé en Markdown du notebook **kaggle_notebook_introduction.ipynb** :\n",
    "\n",
    "---\n",
    "\n",
    "# Résumé du notebook : Kaggle News Portal User Interactions\n",
    "\n",
    "## 1. Découverte et exploration des données\n",
    "\n",
    "- **Fichiers principaux :**\n",
    "  - `articles_metadata.csv` : métadonnées des articles (id, catégorie, date de création, nombre de mots…)\n",
    "  - `clicks_hour_000.csv` (et suivants) : logs de clics utilisateurs (user_id, session_id, article cliqué, device, pays, etc.)\n",
    "\n",
    "- **Exploration :**\n",
    "  - Analyse de la distribution du nombre de mots par article.\n",
    "  - Analyse du nombre de clics par session.\n",
    "  - Interprétation des principales colonnes du dataset.\n",
    "\n",
    "---\n",
    "\n",
    "## 2. Approches de recommandation testées\n",
    "\n",
    "### a. **Baseline / Content-based par catégorie**\n",
    "- Regroupe les articles cliqués par utilisateur.\n",
    "- Calcule la fréquence de clics par catégorie pour chaque utilisateur.\n",
    "- Recommande les articles des catégories préférées de l’utilisateur.\n",
    "- Limite : lent si beaucoup d’interactions.\n",
    "\n",
    "### b. **Collaborative Filtering (librairie Surprise)**\n",
    "- Fusionne les clics et les métadonnées pour obtenir une matrice utilisateur/catégorie.\n",
    "- Utilise la librairie [Surprise](https://github.com/NicolasHug/Surprise) et l’algorithme SVD.\n",
    "- Évalue la RMSE sur un jeu de test.\n",
    "- Génère le top-N des recommandations par utilisateur.\n",
    "\n",
    "### c. **Content-based Filtering avec embeddings**\n",
    "- Utilise les embeddings d’articles (`articles_embeddings.pickle`).\n",
    "- Deux méthodes :\n",
    "  1. Calcul du cosinus de similarité à la volée (CPU, lent).\n",
    "  2. Calcul d’un kernel linéaire sur un sous-échantillon (plus rapide, mais nécessite plus de RAM).\n",
    "- Recommande les articles les plus similaires à ceux déjà lus par l’utilisateur.\n",
    "\n",
    "---\n",
    "\n",
    "## 3. Comparaison des résultats\n",
    "\n",
    "- Les recommandations par catégorie et par filtrage collaboratif donnent des résultats similaires.\n",
    "- L’approche par embeddings permet d’aller plus loin dans la personnalisation, mais est limitée par les ressources matérielles.\n",
    "\n",
    "---\n",
    "\n",
    "## 4. Conclusion\n",
    "\n",
    "- Plusieurs méthodes de recommandation sont testées et comparées : baseline par catégorie, filtrage collaboratif, filtrage par contenu avec embeddings.\n",
    "- Le notebook met en avant les avantages et limites de chaque approche, notamment en termes de performance et de temps de calcul.\n",
    "- Il constitue une bonne base pour explorer et comparer différentes stratégies de recommandation sur un dataset réel.\n",
    "\n",
    "---"
   ]
  },
  {
   "cell_type": "markdown",
   "metadata": {},
   "source": [
    "# Don't forget to UPVOTE if it helped you. Thank you"
   ]
  },
  {
   "cell_type": "code",
   "execution_count": 101,
   "metadata": {
    "_cell_guid": "b1076dfc-b9ad-4769-8c92-a6c4dae69d19",
    "_uuid": "8f2839f25d086af736a60e9eeb907d3b93b6e0e5",
    "execution": {
     "iopub.execute_input": "2021-09-23T18:25:25.673377Z",
     "iopub.status.busy": "2021-09-23T18:25:25.673069Z",
     "iopub.status.idle": "2021-09-23T18:25:34.792930Z",
     "shell.execute_reply": "2021-09-23T18:25:34.791943Z",
     "shell.execute_reply.started": "2021-09-23T18:25:25.673346Z"
    },
    "trusted": true
   },
   "outputs": [
    {
     "name": "stdout",
     "output_type": "stream",
     "text": [
      "Requirement already satisfied: progressbar in /opt/conda/lib/python3.7/site-packages (2.5)\n",
      "\u001b[33mWARNING: Running pip as the 'root' user can result in broken permissions and conflicting behaviour with the system package manager. It is recommended to use a virtual environment instead: https://pip.pypa.io/warnings/venv\u001b[0m\n"
     ]
    }
   ],
   "source": [
    "import numpy as np\n",
    "import pandas as pd\n",
    "import matplotlib.pyplot as plt\n",
    "\n",
    "!pip install progressbar\n",
    "import progressbar\n",
    "\n",
    "import os\n",
    "\n",
    "from surprise import Reader, Dataset\n",
    "from surprise.model_selection import train_test_split, cross_validate\n",
    "\n",
    "from sklearn.metrics.pairwise import linear_kernel"
   ]
  },
  {
   "cell_type": "markdown",
   "metadata": {},
   "source": [
    "# Discovering dataset"
   ]
  },
  {
   "cell_type": "markdown",
   "metadata": {},
   "source": [
    "### Articles_metadata meaning (according to me)\n",
    "* article_id : unique id for the article\n",
    "* category_id : the category of the article, there is 461 category.\n",
    "* created_at_ts : timestamp when the article as been created. You should remove the 3 last numbers. Oldest article : 2006/09/27 11:14:35. Newest : 2018/3/13 12:12:30.\n",
    "* publisher_id : seems empty. only 0\n",
    "* words_count : how many words in the article. From 0 (seems a bug) to 6690. Distribution is available in few cells."
   ]
  },
  {
   "cell_type": "code",
   "execution_count": 3,
   "metadata": {
    "execution": {
     "iopub.execute_input": "2021-09-23T17:42:50.700129Z",
     "iopub.status.busy": "2021-09-23T17:42:50.699859Z",
     "iopub.status.idle": "2021-09-23T17:42:51.050557Z",
     "shell.execute_reply": "2021-09-23T17:42:51.049725Z",
     "shell.execute_reply.started": "2021-09-23T17:42:50.700097Z"
    },
    "trusted": true
   },
   "outputs": [
    {
     "data": {
      "text/html": [
       "<div>\n",
       "<style scoped>\n",
       "    .dataframe tbody tr th:only-of-type {\n",
       "        vertical-align: middle;\n",
       "    }\n",
       "\n",
       "    .dataframe tbody tr th {\n",
       "        vertical-align: top;\n",
       "    }\n",
       "\n",
       "    .dataframe thead th {\n",
       "        text-align: right;\n",
       "    }\n",
       "</style>\n",
       "<table border=\"1\" class=\"dataframe\">\n",
       "  <thead>\n",
       "    <tr style=\"text-align: right;\">\n",
       "      <th></th>\n",
       "      <th>article_id</th>\n",
       "      <th>category_id</th>\n",
       "      <th>created_at_ts</th>\n",
       "      <th>publisher_id</th>\n",
       "      <th>words_count</th>\n",
       "    </tr>\n",
       "  </thead>\n",
       "  <tbody>\n",
       "    <tr>\n",
       "      <th>0</th>\n",
       "      <td>0</td>\n",
       "      <td>0</td>\n",
       "      <td>1513144419000</td>\n",
       "      <td>0</td>\n",
       "      <td>168</td>\n",
       "    </tr>\n",
       "    <tr>\n",
       "      <th>1</th>\n",
       "      <td>1</td>\n",
       "      <td>1</td>\n",
       "      <td>1405341936000</td>\n",
       "      <td>0</td>\n",
       "      <td>189</td>\n",
       "    </tr>\n",
       "    <tr>\n",
       "      <th>2</th>\n",
       "      <td>2</td>\n",
       "      <td>1</td>\n",
       "      <td>1408667706000</td>\n",
       "      <td>0</td>\n",
       "      <td>250</td>\n",
       "    </tr>\n",
       "    <tr>\n",
       "      <th>3</th>\n",
       "      <td>3</td>\n",
       "      <td>1</td>\n",
       "      <td>1408468313000</td>\n",
       "      <td>0</td>\n",
       "      <td>230</td>\n",
       "    </tr>\n",
       "    <tr>\n",
       "      <th>4</th>\n",
       "      <td>4</td>\n",
       "      <td>1</td>\n",
       "      <td>1407071171000</td>\n",
       "      <td>0</td>\n",
       "      <td>162</td>\n",
       "    </tr>\n",
       "    <tr>\n",
       "      <th>...</th>\n",
       "      <td>...</td>\n",
       "      <td>...</td>\n",
       "      <td>...</td>\n",
       "      <td>...</td>\n",
       "      <td>...</td>\n",
       "    </tr>\n",
       "    <tr>\n",
       "      <th>364042</th>\n",
       "      <td>364042</td>\n",
       "      <td>460</td>\n",
       "      <td>1434034118000</td>\n",
       "      <td>0</td>\n",
       "      <td>144</td>\n",
       "    </tr>\n",
       "    <tr>\n",
       "      <th>364043</th>\n",
       "      <td>364043</td>\n",
       "      <td>460</td>\n",
       "      <td>1434148472000</td>\n",
       "      <td>0</td>\n",
       "      <td>463</td>\n",
       "    </tr>\n",
       "    <tr>\n",
       "      <th>364044</th>\n",
       "      <td>364044</td>\n",
       "      <td>460</td>\n",
       "      <td>1457974279000</td>\n",
       "      <td>0</td>\n",
       "      <td>177</td>\n",
       "    </tr>\n",
       "    <tr>\n",
       "      <th>364045</th>\n",
       "      <td>364045</td>\n",
       "      <td>460</td>\n",
       "      <td>1515964737000</td>\n",
       "      <td>0</td>\n",
       "      <td>126</td>\n",
       "    </tr>\n",
       "    <tr>\n",
       "      <th>364046</th>\n",
       "      <td>364046</td>\n",
       "      <td>460</td>\n",
       "      <td>1505811330000</td>\n",
       "      <td>0</td>\n",
       "      <td>479</td>\n",
       "    </tr>\n",
       "  </tbody>\n",
       "</table>\n",
       "<p>364047 rows × 5 columns</p>\n",
       "</div>"
      ],
      "text/plain": [
       "        article_id  category_id  created_at_ts  publisher_id  words_count\n",
       "0                0            0  1513144419000             0          168\n",
       "1                1            1  1405341936000             0          189\n",
       "2                2            1  1408667706000             0          250\n",
       "3                3            1  1408468313000             0          230\n",
       "4                4            1  1407071171000             0          162\n",
       "...            ...          ...            ...           ...          ...\n",
       "364042      364042          460  1434034118000             0          144\n",
       "364043      364043          460  1434148472000             0          463\n",
       "364044      364044          460  1457974279000             0          177\n",
       "364045      364045          460  1515964737000             0          126\n",
       "364046      364046          460  1505811330000             0          479\n",
       "\n",
       "[364047 rows x 5 columns]"
      ]
     },
     "execution_count": 3,
     "metadata": {},
     "output_type": "execute_result"
    }
   ],
   "source": [
    "articles_metadata = pd.read_csv('../input/news-portal-user-interactions-by-globocom/articles_metadata.csv')  \n",
    "articles_metadata"
   ]
  },
  {
   "cell_type": "code",
   "execution_count": 4,
   "metadata": {
    "execution": {
     "iopub.execute_input": "2021-09-23T17:42:51.052079Z",
     "iopub.status.busy": "2021-09-23T17:42:51.051872Z",
     "iopub.status.idle": "2021-09-23T17:42:51.452147Z",
     "shell.execute_reply": "2021-09-23T17:42:51.451242Z",
     "shell.execute_reply.started": "2021-09-23T17:42:51.052052Z"
    },
    "trusted": true
   },
   "outputs": [
    {
     "data": {
      "image/png": "[encoded data removed]",
      "text/plain": [
       "<Figure size 432x288 with 1 Axes>"
      ]
     },
     "metadata": {
      "needs_background": "light"
     },
     "output_type": "display_data"
    }
   ],
   "source": [
    "articles_metadata.words_count.hist(bins=50, range=(0,400))\n",
    "plt.title('How many words per article');"
   ]
  },
  {
   "cell_type": "markdown",
   "metadata": {},
   "source": [
    "### Clicks_hours meaning (according to me)\n",
    "* user_id : unique id for the user.\n",
    "* session_id : unique id for an user's session. Can appear multiple times because multiple clicks per session.\n",
    "* session_start : timestamp of the session. You must remove the 3 last numbers. Oldest session : 2017/10/01 2:37:3. Newest session : 2017/10/1 3:39:19\n",
    "* session_size : how many clicks per session. From 2 to 24. Distribution available few cells below.\n",
    "* click_article_id : the article that has been cliked on.\n",
    "* click_environment : no idea, maybe from website/app ? There is only three types, and the type 4 takes more than 90%. \n",
    "* click_deviceGroup : must be the kind of device : computer, smartphone or tablet ?\n",
    "* click_os : the operation system of the device.\n",
    "* click_country : which country the user come from.\n",
    "* click_region : same but for region.\n",
    "* click_referrer_type : good question.\n"
   ]
  },
  {
   "cell_type": "code",
   "execution_count": 5,
   "metadata": {
    "execution": {
     "iopub.execute_input": "2021-09-23T17:42:51.454909Z",
     "iopub.status.busy": "2021-09-23T17:42:51.454568Z",
     "iopub.status.idle": "2021-09-23T17:42:51.489460Z",
     "shell.execute_reply": "2021-09-23T17:42:51.488847Z",
     "shell.execute_reply.started": "2021-09-23T17:42:51.454868Z"
    },
    "trusted": true
   },
   "outputs": [
    {
     "data": {
      "text/html": [
       "<div>\n",
       "<style scoped>\n",
       "    .dataframe tbody tr th:only-of-type {\n",
       "        vertical-align: middle;\n",
       "    }\n",
       "\n",
       "    .dataframe tbody tr th {\n",
       "        vertical-align: top;\n",
       "    }\n",
       "\n",
       "    .dataframe thead th {\n",
       "        text-align: right;\n",
       "    }\n",
       "</style>\n",
       "<table border=\"1\" class=\"dataframe\">\n",
       "  <thead>\n",
       "    <tr style=\"text-align: right;\">\n",
       "      <th></th>\n",
       "      <th>user_id</th>\n",
       "      <th>session_id</th>\n",
       "      <th>session_start</th>\n",
       "      <th>session_size</th>\n",
       "      <th>click_article_id</th>\n",
       "      <th>click_timestamp</th>\n",
       "      <th>click_environment</th>\n",
       "      <th>click_deviceGroup</th>\n",
       "      <th>click_os</th>\n",
       "      <th>click_country</th>\n",
       "      <th>click_region</th>\n",
       "      <th>click_referrer_type</th>\n",
       "    </tr>\n",
       "  </thead>\n",
       "  <tbody>\n",
       "    <tr>\n",
       "      <th>0</th>\n",
       "      <td>0</td>\n",
       "      <td>1506825423271737</td>\n",
       "      <td>1506825423000</td>\n",
       "      <td>2</td>\n",
       "      <td>157541</td>\n",
       "      <td>1506826828020</td>\n",
       "      <td>4</td>\n",
       "      <td>3</td>\n",
       "      <td>20</td>\n",
       "      <td>1</td>\n",
       "      <td>20</td>\n",
       "      <td>2</td>\n",
       "    </tr>\n",
       "    <tr>\n",
       "      <th>1</th>\n",
       "      <td>0</td>\n",
       "      <td>1506825423271737</td>\n",
       "      <td>1506825423000</td>\n",
       "      <td>2</td>\n",
       "      <td>68866</td>\n",
       "      <td>1506826858020</td>\n",
       "      <td>4</td>\n",
       "      <td>3</td>\n",
       "      <td>20</td>\n",
       "      <td>1</td>\n",
       "      <td>20</td>\n",
       "      <td>2</td>\n",
       "    </tr>\n",
       "    <tr>\n",
       "      <th>2</th>\n",
       "      <td>1</td>\n",
       "      <td>1506825426267738</td>\n",
       "      <td>1506825426000</td>\n",
       "      <td>2</td>\n",
       "      <td>235840</td>\n",
       "      <td>1506827017951</td>\n",
       "      <td>4</td>\n",
       "      <td>1</td>\n",
       "      <td>17</td>\n",
       "      <td>1</td>\n",
       "      <td>16</td>\n",
       "      <td>2</td>\n",
       "    </tr>\n",
       "    <tr>\n",
       "      <th>3</th>\n",
       "      <td>1</td>\n",
       "      <td>1506825426267738</td>\n",
       "      <td>1506825426000</td>\n",
       "      <td>2</td>\n",
       "      <td>96663</td>\n",
       "      <td>1506827047951</td>\n",
       "      <td>4</td>\n",
       "      <td>1</td>\n",
       "      <td>17</td>\n",
       "      <td>1</td>\n",
       "      <td>16</td>\n",
       "      <td>2</td>\n",
       "    </tr>\n",
       "    <tr>\n",
       "      <th>4</th>\n",
       "      <td>2</td>\n",
       "      <td>1506825435299739</td>\n",
       "      <td>1506825435000</td>\n",
       "      <td>2</td>\n",
       "      <td>119592</td>\n",
       "      <td>1506827090575</td>\n",
       "      <td>4</td>\n",
       "      <td>1</td>\n",
       "      <td>17</td>\n",
       "      <td>1</td>\n",
       "      <td>24</td>\n",
       "      <td>2</td>\n",
       "    </tr>\n",
       "    <tr>\n",
       "      <th>...</th>\n",
       "      <td>...</td>\n",
       "      <td>...</td>\n",
       "      <td>...</td>\n",
       "      <td>...</td>\n",
       "      <td>...</td>\n",
       "      <td>...</td>\n",
       "      <td>...</td>\n",
       "      <td>...</td>\n",
       "      <td>...</td>\n",
       "      <td>...</td>\n",
       "      <td>...</td>\n",
       "      <td>...</td>\n",
       "    </tr>\n",
       "    <tr>\n",
       "      <th>1878</th>\n",
       "      <td>705</td>\n",
       "      <td>1506828968165442</td>\n",
       "      <td>1506828968000</td>\n",
       "      <td>2</td>\n",
       "      <td>119592</td>\n",
       "      <td>1506830912301</td>\n",
       "      <td>4</td>\n",
       "      <td>1</td>\n",
       "      <td>17</td>\n",
       "      <td>1</td>\n",
       "      <td>21</td>\n",
       "      <td>2</td>\n",
       "    </tr>\n",
       "    <tr>\n",
       "      <th>1879</th>\n",
       "      <td>705</td>\n",
       "      <td>1506828968165442</td>\n",
       "      <td>1506828968000</td>\n",
       "      <td>2</td>\n",
       "      <td>284847</td>\n",
       "      <td>1506830942301</td>\n",
       "      <td>4</td>\n",
       "      <td>1</td>\n",
       "      <td>17</td>\n",
       "      <td>1</td>\n",
       "      <td>21</td>\n",
       "      <td>2</td>\n",
       "    </tr>\n",
       "    <tr>\n",
       "      <th>1880</th>\n",
       "      <td>706</td>\n",
       "      <td>1506828979881443</td>\n",
       "      <td>1506828979000</td>\n",
       "      <td>3</td>\n",
       "      <td>108854</td>\n",
       "      <td>1506829027334</td>\n",
       "      <td>4</td>\n",
       "      <td>3</td>\n",
       "      <td>2</td>\n",
       "      <td>1</td>\n",
       "      <td>25</td>\n",
       "      <td>1</td>\n",
       "    </tr>\n",
       "    <tr>\n",
       "      <th>1881</th>\n",
       "      <td>706</td>\n",
       "      <td>1506828979881443</td>\n",
       "      <td>1506828979000</td>\n",
       "      <td>3</td>\n",
       "      <td>96663</td>\n",
       "      <td>1506829095732</td>\n",
       "      <td>4</td>\n",
       "      <td>3</td>\n",
       "      <td>2</td>\n",
       "      <td>1</td>\n",
       "      <td>25</td>\n",
       "      <td>1</td>\n",
       "    </tr>\n",
       "    <tr>\n",
       "      <th>1882</th>\n",
       "      <td>706</td>\n",
       "      <td>1506828979881443</td>\n",
       "      <td>1506828979000</td>\n",
       "      <td>3</td>\n",
       "      <td>68866</td>\n",
       "      <td>1506829125732</td>\n",
       "      <td>4</td>\n",
       "      <td>3</td>\n",
       "      <td>2</td>\n",
       "      <td>1</td>\n",
       "      <td>25</td>\n",
       "      <td>1</td>\n",
       "    </tr>\n",
       "  </tbody>\n",
       "</table>\n",
       "<p>1883 rows × 12 columns</p>\n",
       "</div>"
      ],
      "text/plain": [
       "      user_id        session_id  session_start  session_size  \\\n",
       "0           0  1506825423271737  1506825423000             2   \n",
       "1           0  1506825423271737  1506825423000             2   \n",
       "2           1  1506825426267738  1506825426000             2   \n",
       "3           1  1506825426267738  1506825426000             2   \n",
       "4           2  1506825435299739  1506825435000             2   \n",
       "...       ...               ...            ...           ...   \n",
       "1878      705  1506828968165442  1506828968000             2   \n",
       "1879      705  1506828968165442  1506828968000             2   \n",
       "1880      706  1506828979881443  1506828979000             3   \n",
       "1881      706  1506828979881443  1506828979000             3   \n",
       "1882      706  1506828979881443  1506828979000             3   \n",
       "\n",
       "      click_article_id  click_timestamp  click_environment  click_deviceGroup  \\\n",
       "0               157541    1506826828020                  4                  3   \n",
       "1                68866    1506826858020                  4                  3   \n",
       "2               235840    1506827017951                  4                  1   \n",
       "3                96663    1506827047951                  4                  1   \n",
       "4               119592    1506827090575                  4                  1   \n",
       "...                ...              ...                ...                ...   \n",
       "1878            119592    1506830912301                  4                  1   \n",
       "1879            284847    1506830942301                  4                  1   \n",
       "1880            108854    1506829027334                  4                  3   \n",
       "1881             96663    1506829095732                  4                  3   \n",
       "1882             68866    1506829125732                  4                  3   \n",
       "\n",
       "      click_os  click_country  click_region  click_referrer_type  \n",
       "0           20              1            20                    2  \n",
       "1           20              1            20                    2  \n",
       "2           17              1            16                    2  \n",
       "3           17              1            16                    2  \n",
       "4           17              1            24                    2  \n",
       "...        ...            ...           ...                  ...  \n",
       "1878        17              1            21                    2  \n",
       "1879        17              1            21                    2  \n",
       "1880         2              1            25                    1  \n",
       "1881         2              1            25                    1  \n",
       "1882         2              1            25                    1  \n",
       "\n",
       "[1883 rows x 12 columns]"
      ]
     },
     "execution_count": 5,
     "metadata": {},
     "output_type": "execute_result"
    }
   ],
   "source": [
    "clicks_hour_000 = pd.read_csv('../input/news-portal-user-interactions-by-globocom/clicks/clicks/clicks_hour_000.csv')  \n",
    "clicks_hour_000"
   ]
  },
  {
   "cell_type": "code",
   "execution_count": 6,
   "metadata": {
    "execution": {
     "iopub.execute_input": "2021-09-23T17:42:51.490999Z",
     "iopub.status.busy": "2021-09-23T17:42:51.490366Z",
     "iopub.status.idle": "2021-09-23T17:42:51.745973Z",
     "shell.execute_reply": "2021-09-23T17:42:51.745146Z",
     "shell.execute_reply.started": "2021-09-23T17:42:51.490966Z"
    },
    "trusted": true
   },
   "outputs": [
    {
     "data": {
      "image/png": "[encoded data removed]",
      "text/plain": [
       "<Figure size 432x288 with 1 Axes>"
      ]
     },
     "metadata": {
      "needs_background": "light"
     },
     "output_type": "display_data"
    }
   ],
   "source": [
    "clicks_hour_000.session_size.hist(bins=24, range=(0,10))\n",
    "plt.title('How many clicks per session');"
   ]
  },
  {
   "cell_type": "code",
   "execution_count": 7,
   "metadata": {
    "execution": {
     "iopub.execute_input": "2021-09-23T17:42:51.747571Z",
     "iopub.status.busy": "2021-09-23T17:42:51.747242Z",
     "iopub.status.idle": "2021-09-23T17:42:51.763978Z",
     "shell.execute_reply": "2021-09-23T17:42:51.763300Z",
     "shell.execute_reply.started": "2021-09-23T17:42:51.747523Z"
    },
    "trusted": true
   },
   "outputs": [
    {
     "data": {
      "text/html": [
       "<div>\n",
       "<style scoped>\n",
       "    .dataframe tbody tr th:only-of-type {\n",
       "        vertical-align: middle;\n",
       "    }\n",
       "\n",
       "    .dataframe tbody tr th {\n",
       "        vertical-align: top;\n",
       "    }\n",
       "\n",
       "    .dataframe thead th {\n",
       "        text-align: right;\n",
       "    }\n",
       "</style>\n",
       "<table border=\"1\" class=\"dataframe\">\n",
       "  <thead>\n",
       "    <tr style=\"text-align: right;\">\n",
       "      <th></th>\n",
       "      <th>user_id</th>\n",
       "      <th>session_id</th>\n",
       "      <th>session_start</th>\n",
       "      <th>session_size</th>\n",
       "      <th>click_article_id</th>\n",
       "      <th>click_timestamp</th>\n",
       "      <th>click_environment</th>\n",
       "      <th>click_deviceGroup</th>\n",
       "      <th>click_os</th>\n",
       "      <th>click_country</th>\n",
       "      <th>click_region</th>\n",
       "      <th>click_referrer_type</th>\n",
       "    </tr>\n",
       "  </thead>\n",
       "  <tbody>\n",
       "    <tr>\n",
       "      <th>0</th>\n",
       "      <td>0</td>\n",
       "      <td>1506825423271737</td>\n",
       "      <td>1506825423000</td>\n",
       "      <td>2</td>\n",
       "      <td>157541</td>\n",
       "      <td>1506826828020</td>\n",
       "      <td>4</td>\n",
       "      <td>3</td>\n",
       "      <td>20</td>\n",
       "      <td>1</td>\n",
       "      <td>20</td>\n",
       "      <td>2</td>\n",
       "    </tr>\n",
       "    <tr>\n",
       "      <th>1</th>\n",
       "      <td>0</td>\n",
       "      <td>1506825423271737</td>\n",
       "      <td>1506825423000</td>\n",
       "      <td>2</td>\n",
       "      <td>68866</td>\n",
       "      <td>1506826858020</td>\n",
       "      <td>4</td>\n",
       "      <td>3</td>\n",
       "      <td>20</td>\n",
       "      <td>1</td>\n",
       "      <td>20</td>\n",
       "      <td>2</td>\n",
       "    </tr>\n",
       "  </tbody>\n",
       "</table>\n",
       "</div>"
      ],
      "text/plain": [
       "   user_id        session_id  session_start  session_size  click_article_id  \\\n",
       "0        0  1506825423271737  1506825423000             2            157541   \n",
       "1        0  1506825423271737  1506825423000             2             68866   \n",
       "\n",
       "   click_timestamp  click_environment  click_deviceGroup  click_os  \\\n",
       "0    1506826828020                  4                  3        20   \n",
       "1    1506826858020                  4                  3        20   \n",
       "\n",
       "   click_country  click_region  click_referrer_type  \n",
       "0              1            20                    2  \n",
       "1              1            20                    2  "
      ]
     },
     "execution_count": 7,
     "metadata": {},
     "output_type": "execute_result"
    }
   ],
   "source": [
    "clicks_hour_000.loc[clicks_hour_000.user_id == 0]"
   ]
  },
  {
   "cell_type": "code",
   "execution_count": 8,
   "metadata": {
    "execution": {
     "iopub.execute_input": "2021-09-23T17:42:51.765636Z",
     "iopub.status.busy": "2021-09-23T17:42:51.765209Z",
     "iopub.status.idle": "2021-09-23T17:42:51.783344Z",
     "shell.execute_reply": "2021-09-23T17:42:51.782435Z",
     "shell.execute_reply.started": "2021-09-23T17:42:51.765590Z"
    },
    "trusted": true
   },
   "outputs": [
    {
     "data": {
      "text/html": [
       "<div>\n",
       "<style scoped>\n",
       "    .dataframe tbody tr th:only-of-type {\n",
       "        vertical-align: middle;\n",
       "    }\n",
       "\n",
       "    .dataframe tbody tr th {\n",
       "        vertical-align: top;\n",
       "    }\n",
       "\n",
       "    .dataframe thead th {\n",
       "        text-align: right;\n",
       "    }\n",
       "</style>\n",
       "<table border=\"1\" class=\"dataframe\">\n",
       "  <thead>\n",
       "    <tr style=\"text-align: right;\">\n",
       "      <th></th>\n",
       "      <th>user_id</th>\n",
       "      <th>session_id</th>\n",
       "      <th>session_start</th>\n",
       "      <th>session_size</th>\n",
       "      <th>click_article_id</th>\n",
       "      <th>click_timestamp</th>\n",
       "      <th>click_environment</th>\n",
       "      <th>click_deviceGroup</th>\n",
       "      <th>click_os</th>\n",
       "      <th>click_country</th>\n",
       "      <th>click_region</th>\n",
       "      <th>click_referrer_type</th>\n",
       "    </tr>\n",
       "  </thead>\n",
       "  <tbody>\n",
       "    <tr>\n",
       "      <th>1880</th>\n",
       "      <td>706</td>\n",
       "      <td>1506828979881443</td>\n",
       "      <td>1506828979000</td>\n",
       "      <td>3</td>\n",
       "      <td>108854</td>\n",
       "      <td>1506829027334</td>\n",
       "      <td>4</td>\n",
       "      <td>3</td>\n",
       "      <td>2</td>\n",
       "      <td>1</td>\n",
       "      <td>25</td>\n",
       "      <td>1</td>\n",
       "    </tr>\n",
       "    <tr>\n",
       "      <th>1881</th>\n",
       "      <td>706</td>\n",
       "      <td>1506828979881443</td>\n",
       "      <td>1506828979000</td>\n",
       "      <td>3</td>\n",
       "      <td>96663</td>\n",
       "      <td>1506829095732</td>\n",
       "      <td>4</td>\n",
       "      <td>3</td>\n",
       "      <td>2</td>\n",
       "      <td>1</td>\n",
       "      <td>25</td>\n",
       "      <td>1</td>\n",
       "    </tr>\n",
       "    <tr>\n",
       "      <th>1882</th>\n",
       "      <td>706</td>\n",
       "      <td>1506828979881443</td>\n",
       "      <td>1506828979000</td>\n",
       "      <td>3</td>\n",
       "      <td>68866</td>\n",
       "      <td>1506829125732</td>\n",
       "      <td>4</td>\n",
       "      <td>3</td>\n",
       "      <td>2</td>\n",
       "      <td>1</td>\n",
       "      <td>25</td>\n",
       "      <td>1</td>\n",
       "    </tr>\n",
       "  </tbody>\n",
       "</table>\n",
       "</div>"
      ],
      "text/plain": [
       "      user_id        session_id  session_start  session_size  \\\n",
       "1880      706  1506828979881443  1506828979000             3   \n",
       "1881      706  1506828979881443  1506828979000             3   \n",
       "1882      706  1506828979881443  1506828979000             3   \n",
       "\n",
       "      click_article_id  click_timestamp  click_environment  click_deviceGroup  \\\n",
       "1880            108854    1506829027334                  4                  3   \n",
       "1881             96663    1506829095732                  4                  3   \n",
       "1882             68866    1506829125732                  4                  3   \n",
       "\n",
       "      click_os  click_country  click_region  click_referrer_type  \n",
       "1880         2              1            25                    1  \n",
       "1881         2              1            25                    1  \n",
       "1882         2              1            25                    1  "
      ]
     },
     "execution_count": 8,
     "metadata": {},
     "output_type": "execute_result"
    }
   ],
   "source": [
    "clicks_hour_000.loc[clicks_hour_000.session_id == 1506828979881443]"
   ]
  },
  {
   "cell_type": "markdown",
   "metadata": {},
   "source": [
    "# Summary\n",
    "We are going to try 4 differents way to predict articles to the user.\n",
    "\n",
    "* Baseline : Just like this video (https://www.youtube.com/watch?v=YMZmLx-AUvY), we are just going to recreate a matrix for the article and the user preferenced only based on previous clicks.\n",
    "* Collaborative Filtering : We are going to use the surprise librairy. https://github.com/NicolasHug/Surprise\n",
    "* Content-based Filtering : We are going to use word embedding.\n",
    "* Hybrid methods"
   ]
  },
  {
   "cell_type": "markdown",
   "metadata": {},
   "source": [
    "# Content-based : by category\n",
    "## Prepare data\n",
    "Let's combine all the clicks file into a big one."
   ]
  },
  {
   "cell_type": "code",
   "execution_count": 11,
   "metadata": {
    "execution": {
     "iopub.execute_input": "2021-09-23T17:44:55.517157Z",
     "iopub.status.busy": "2021-09-23T17:44:55.516240Z",
     "iopub.status.idle": "2021-09-23T17:45:24.678398Z",
     "shell.execute_reply": "2021-09-23T17:45:24.677596Z",
     "shell.execute_reply.started": "2021-09-23T17:44:55.517116Z"
    },
    "trusted": true
   },
   "outputs": [
    {
     "name": "stdout",
     "output_type": "stream",
     "text": [
      "Number of clicks csv: 385\n",
      "CPU times: user 27.7 s, sys: 1.09 s, total: 28.7 s\n",
      "Wall time: 29.1 s\n"
     ]
    },
    {
     "data": {
      "text/html": [
       "<div>\n",
       "<style scoped>\n",
       "    .dataframe tbody tr th:only-of-type {\n",
       "        vertical-align: middle;\n",
       "    }\n",
       "\n",
       "    .dataframe tbody tr th {\n",
       "        vertical-align: top;\n",
       "    }\n",
       "\n",
       "    .dataframe thead th {\n",
       "        text-align: right;\n",
       "    }\n",
       "</style>\n",
       "<table border=\"1\" class=\"dataframe\">\n",
       "  <thead>\n",
       "    <tr style=\"text-align: right;\">\n",
       "      <th></th>\n",
       "      <th>user_id</th>\n",
       "      <th>session_id</th>\n",
       "      <th>session_start</th>\n",
       "      <th>session_size</th>\n",
       "      <th>click_article_id</th>\n",
       "      <th>click_timestamp</th>\n",
       "      <th>click_environment</th>\n",
       "      <th>click_deviceGroup</th>\n",
       "      <th>click_os</th>\n",
       "      <th>click_country</th>\n",
       "      <th>click_region</th>\n",
       "      <th>click_referrer_type</th>\n",
       "    </tr>\n",
       "  </thead>\n",
       "  <tbody>\n",
       "    <tr>\n",
       "      <th>0</th>\n",
       "      <td>0</td>\n",
       "      <td>1506825423271737</td>\n",
       "      <td>1506825423000</td>\n",
       "      <td>2</td>\n",
       "      <td>157541</td>\n",
       "      <td>1506826828020</td>\n",
       "      <td>4</td>\n",
       "      <td>3</td>\n",
       "      <td>20</td>\n",
       "      <td>1</td>\n",
       "      <td>20</td>\n",
       "      <td>2</td>\n",
       "    </tr>\n",
       "    <tr>\n",
       "      <th>1</th>\n",
       "      <td>0</td>\n",
       "      <td>1506825423271737</td>\n",
       "      <td>1506825423000</td>\n",
       "      <td>2</td>\n",
       "      <td>68866</td>\n",
       "      <td>1506826858020</td>\n",
       "      <td>4</td>\n",
       "      <td>3</td>\n",
       "      <td>20</td>\n",
       "      <td>1</td>\n",
       "      <td>20</td>\n",
       "      <td>2</td>\n",
       "    </tr>\n",
       "    <tr>\n",
       "      <th>2</th>\n",
       "      <td>1</td>\n",
       "      <td>1506825426267738</td>\n",
       "      <td>1506825426000</td>\n",
       "      <td>2</td>\n",
       "      <td>235840</td>\n",
       "      <td>1506827017951</td>\n",
       "      <td>4</td>\n",
       "      <td>1</td>\n",
       "      <td>17</td>\n",
       "      <td>1</td>\n",
       "      <td>16</td>\n",
       "      <td>2</td>\n",
       "    </tr>\n",
       "    <tr>\n",
       "      <th>3</th>\n",
       "      <td>1</td>\n",
       "      <td>1506825426267738</td>\n",
       "      <td>1506825426000</td>\n",
       "      <td>2</td>\n",
       "      <td>96663</td>\n",
       "      <td>1506827047951</td>\n",
       "      <td>4</td>\n",
       "      <td>1</td>\n",
       "      <td>17</td>\n",
       "      <td>1</td>\n",
       "      <td>16</td>\n",
       "      <td>2</td>\n",
       "    </tr>\n",
       "    <tr>\n",
       "      <th>4</th>\n",
       "      <td>2</td>\n",
       "      <td>1506825435299739</td>\n",
       "      <td>1506825435000</td>\n",
       "      <td>2</td>\n",
       "      <td>119592</td>\n",
       "      <td>1506827090575</td>\n",
       "      <td>4</td>\n",
       "      <td>1</td>\n",
       "      <td>17</td>\n",
       "      <td>1</td>\n",
       "      <td>24</td>\n",
       "      <td>2</td>\n",
       "    </tr>\n",
       "    <tr>\n",
       "      <th>...</th>\n",
       "      <td>...</td>\n",
       "      <td>...</td>\n",
       "      <td>...</td>\n",
       "      <td>...</td>\n",
       "      <td>...</td>\n",
       "      <td>...</td>\n",
       "      <td>...</td>\n",
       "      <td>...</td>\n",
       "      <td>...</td>\n",
       "      <td>...</td>\n",
       "      <td>...</td>\n",
       "      <td>...</td>\n",
       "    </tr>\n",
       "    <tr>\n",
       "      <th>2988176</th>\n",
       "      <td>10051</td>\n",
       "      <td>1508211372158328</td>\n",
       "      <td>1508211372000</td>\n",
       "      <td>2</td>\n",
       "      <td>84911</td>\n",
       "      <td>1508211557302</td>\n",
       "      <td>4</td>\n",
       "      <td>3</td>\n",
       "      <td>2</td>\n",
       "      <td>1</td>\n",
       "      <td>25</td>\n",
       "      <td>1</td>\n",
       "    </tr>\n",
       "    <tr>\n",
       "      <th>2988177</th>\n",
       "      <td>322896</td>\n",
       "      <td>1508211376302329</td>\n",
       "      <td>1508211376000</td>\n",
       "      <td>2</td>\n",
       "      <td>30760</td>\n",
       "      <td>1508211672520</td>\n",
       "      <td>4</td>\n",
       "      <td>1</td>\n",
       "      <td>17</td>\n",
       "      <td>1</td>\n",
       "      <td>25</td>\n",
       "      <td>2</td>\n",
       "    </tr>\n",
       "    <tr>\n",
       "      <th>2988178</th>\n",
       "      <td>322896</td>\n",
       "      <td>1508211376302329</td>\n",
       "      <td>1508211376000</td>\n",
       "      <td>2</td>\n",
       "      <td>157507</td>\n",
       "      <td>1508211702520</td>\n",
       "      <td>4</td>\n",
       "      <td>1</td>\n",
       "      <td>17</td>\n",
       "      <td>1</td>\n",
       "      <td>25</td>\n",
       "      <td>2</td>\n",
       "    </tr>\n",
       "    <tr>\n",
       "      <th>2988179</th>\n",
       "      <td>123718</td>\n",
       "      <td>1508211379189330</td>\n",
       "      <td>1508211379000</td>\n",
       "      <td>2</td>\n",
       "      <td>234481</td>\n",
       "      <td>1508211513583</td>\n",
       "      <td>4</td>\n",
       "      <td>3</td>\n",
       "      <td>2</td>\n",
       "      <td>1</td>\n",
       "      <td>25</td>\n",
       "      <td>2</td>\n",
       "    </tr>\n",
       "    <tr>\n",
       "      <th>2988180</th>\n",
       "      <td>123718</td>\n",
       "      <td>1508211379189330</td>\n",
       "      <td>1508211379000</td>\n",
       "      <td>2</td>\n",
       "      <td>233578</td>\n",
       "      <td>1508211543583</td>\n",
       "      <td>4</td>\n",
       "      <td>3</td>\n",
       "      <td>2</td>\n",
       "      <td>1</td>\n",
       "      <td>25</td>\n",
       "      <td>2</td>\n",
       "    </tr>\n",
       "  </tbody>\n",
       "</table>\n",
       "<p>2988181 rows × 12 columns</p>\n",
       "</div>"
      ],
      "text/plain": [
       "        user_id        session_id  session_start session_size  \\\n",
       "0             0  1506825423271737  1506825423000            2   \n",
       "1             0  1506825423271737  1506825423000            2   \n",
       "2             1  1506825426267738  1506825426000            2   \n",
       "3             1  1506825426267738  1506825426000            2   \n",
       "4             2  1506825435299739  1506825435000            2   \n",
       "...         ...               ...            ...          ...   \n",
       "2988176   10051  1508211372158328  1508211372000            2   \n",
       "2988177  322896  1508211376302329  1508211376000            2   \n",
       "2988178  322896  1508211376302329  1508211376000            2   \n",
       "2988179  123718  1508211379189330  1508211379000            2   \n",
       "2988180  123718  1508211379189330  1508211379000            2   \n",
       "\n",
       "        click_article_id click_timestamp click_environment click_deviceGroup  \\\n",
       "0                 157541   1506826828020                 4                 3   \n",
       "1                  68866   1506826858020                 4                 3   \n",
       "2                 235840   1506827017951                 4                 1   \n",
       "3                  96663   1506827047951                 4                 1   \n",
       "4                 119592   1506827090575                 4                 1   \n",
       "...                  ...             ...               ...               ...   \n",
       "2988176            84911   1508211557302                 4                 3   \n",
       "2988177            30760   1508211672520                 4                 1   \n",
       "2988178           157507   1508211702520                 4                 1   \n",
       "2988179           234481   1508211513583                 4                 3   \n",
       "2988180           233578   1508211543583                 4                 3   \n",
       "\n",
       "        click_os click_country click_region click_referrer_type  \n",
       "0             20             1           20                   2  \n",
       "1             20             1           20                   2  \n",
       "2             17             1           16                   2  \n",
       "3             17             1           16                   2  \n",
       "4             17             1           24                   2  \n",
       "...          ...           ...          ...                 ...  \n",
       "2988176        2             1           25                   1  \n",
       "2988177       17             1           25                   2  \n",
       "2988178       17             1           25                   2  \n",
       "2988179        2             1           25                   2  \n",
       "2988180        2             1           25                   2  \n",
       "\n",
       "[2988181 rows x 12 columns]"
      ]
     },
     "execution_count": 11,
     "metadata": {},
     "output_type": "execute_result"
    }
   ],
   "source": [
    "%%time\n",
    "\n",
    "if not os.path.exists('clicks.csv'):\n",
    "    clicks_path = []\n",
    "    clicks_dir = \"../input/news-portal-user-interactions-by-globocom/clicks/clicks\"\n",
    "\n",
    "    clicks_path = clicks_path + sorted(\n",
    "            [\n",
    "                os.path.join(clicks_dir, fname)\n",
    "                for fname in os.listdir(clicks_dir)\n",
    "                if fname.endswith(\".csv\")\n",
    "            ]\n",
    "        )\n",
    "    print(\"Number of clicks csv:\", len(clicks_path))\n",
    "\n",
    "    _li = []\n",
    "\n",
    "    for filename in clicks_path:\n",
    "        df = pd.read_csv(filename, index_col=None, header=0)\n",
    "        _li.append(df)\n",
    "\n",
    "    clicks = pd.concat(_li, axis=0, ignore_index=True)\n",
    "    clicks.to_csv('clicks.csv')\n",
    "else:\n",
    "    clicks= pd.read_csv('clicks.csv')\n",
    "    \n",
    "clicks"
   ]
  },
  {
   "cell_type": "markdown",
   "metadata": {},
   "source": [
    "We need to group every article click per user."
   ]
  },
  {
   "cell_type": "code",
   "execution_count": 13,
   "metadata": {
    "execution": {
     "iopub.execute_input": "2021-09-23T17:46:51.022028Z",
     "iopub.status.busy": "2021-09-23T17:46:51.021463Z",
     "iopub.status.idle": "2021-09-23T17:46:56.528830Z",
     "shell.execute_reply": "2021-09-23T17:46:56.527856Z",
     "shell.execute_reply.started": "2021-09-23T17:46:51.021985Z"
    },
    "trusted": true
   },
   "outputs": [
    {
     "data": {
      "text/html": [
       "<div>\n",
       "<style scoped>\n",
       "    .dataframe tbody tr th:only-of-type {\n",
       "        vertical-align: middle;\n",
       "    }\n",
       "\n",
       "    .dataframe tbody tr th {\n",
       "        vertical-align: top;\n",
       "    }\n",
       "\n",
       "    .dataframe thead th {\n",
       "        text-align: right;\n",
       "    }\n",
       "</style>\n",
       "<table border=\"1\" class=\"dataframe\">\n",
       "  <thead>\n",
       "    <tr style=\"text-align: right;\">\n",
       "      <th></th>\n",
       "      <th>LIST_click_article_id</th>\n",
       "    </tr>\n",
       "    <tr>\n",
       "      <th>user_id</th>\n",
       "      <th></th>\n",
       "    </tr>\n",
       "  </thead>\n",
       "  <tbody>\n",
       "    <tr>\n",
       "      <th>0</th>\n",
       "      <td>[157541, 68866, 96755, 313996, 160158, 233470,...</td>\n",
       "    </tr>\n",
       "    <tr>\n",
       "      <th>1</th>\n",
       "      <td>[235840, 96663, 59758, 160474, 285719, 156723,...</td>\n",
       "    </tr>\n",
       "    <tr>\n",
       "      <th>2</th>\n",
       "      <td>[119592, 30970, 30760, 209122]</td>\n",
       "    </tr>\n",
       "    <tr>\n",
       "      <th>3</th>\n",
       "      <td>[236065, 236294, 234686, 233769, 235665, 23513...</td>\n",
       "    </tr>\n",
       "    <tr>\n",
       "      <th>4</th>\n",
       "      <td>[48915, 44488, 195887, 195084, 63307, 336499, ...</td>\n",
       "    </tr>\n",
       "    <tr>\n",
       "      <th>...</th>\n",
       "      <td>...</td>\n",
       "    </tr>\n",
       "    <tr>\n",
       "      <th>322892</th>\n",
       "      <td>[42567, 39894]</td>\n",
       "    </tr>\n",
       "    <tr>\n",
       "      <th>322893</th>\n",
       "      <td>[50644, 36162]</td>\n",
       "    </tr>\n",
       "    <tr>\n",
       "      <th>322894</th>\n",
       "      <td>[36162, 168401]</td>\n",
       "    </tr>\n",
       "    <tr>\n",
       "      <th>322895</th>\n",
       "      <td>[289197, 63746]</td>\n",
       "    </tr>\n",
       "    <tr>\n",
       "      <th>322896</th>\n",
       "      <td>[30760, 157507]</td>\n",
       "    </tr>\n",
       "  </tbody>\n",
       "</table>\n",
       "<p>322897 rows × 1 columns</p>\n",
       "</div>"
      ],
      "text/plain": [
       "                                     LIST_click_article_id\n",
       "user_id                                                   \n",
       "0        [157541, 68866, 96755, 313996, 160158, 233470,...\n",
       "1        [235840, 96663, 59758, 160474, 285719, 156723,...\n",
       "2                           [119592, 30970, 30760, 209122]\n",
       "3        [236065, 236294, 234686, 233769, 235665, 23513...\n",
       "4        [48915, 44488, 195887, 195084, 63307, 336499, ...\n",
       "...                                                    ...\n",
       "322892                                      [42567, 39894]\n",
       "322893                                      [50644, 36162]\n",
       "322894                                     [36162, 168401]\n",
       "322895                                     [289197, 63746]\n",
       "322896                                     [30760, 157507]\n",
       "\n",
       "[322897 rows x 1 columns]"
      ]
     },
     "execution_count": 13,
     "metadata": {},
     "output_type": "execute_result"
    }
   ],
   "source": [
    "df = clicks.groupby('user_id').agg(\n",
    "    LIST_click_article_id = ('click_article_id', lambda x: list(x)),\n",
    ")\n",
    "df"
   ]
  },
  {
   "cell_type": "code",
   "execution_count": 16,
   "metadata": {
    "execution": {
     "iopub.execute_input": "2021-09-23T17:47:21.672767Z",
     "iopub.status.busy": "2021-09-23T17:47:21.672461Z",
     "iopub.status.idle": "2021-09-23T17:47:22.466903Z",
     "shell.execute_reply": "2021-09-23T17:47:22.465924Z",
     "shell.execute_reply.started": "2021-09-23T17:47:21.672737Z"
    },
    "trusted": true
   },
   "outputs": [
    {
     "name": "stdout",
     "output_type": "stream",
     "text": [
      "CPU times: user 703 ms, sys: 79.9 ms, total: 783 ms\n",
      "Wall time: 787 ms\n"
     ]
    }
   ],
   "source": [
    "%%time\n",
    "#Code need optimization\n",
    "\n",
    "if not os.path.exists('../input/p9-data/df.csv'):\n",
    "    pbar = progressbar.ProgressBar(widgets=[progressbar.Percentage(), progressbar.Bar()], maxval=len(df)).start()\n",
    "    \n",
    "    df['categories'] = ''\n",
    "\n",
    "    for index, row in df.iterrows():\n",
    "        pbar.update(index)\n",
    "        _list_row = []\n",
    "        for article in row.LIST_click_article_id:\n",
    "            _list_row.append(articles_metadata[articles_metadata.article_id == article].category_id.values[0])\n",
    "        df.loc[index]['categories']=_list_row\n",
    "    df.to_csv('df.csv')\n",
    "    pbar.finish()\n",
    "else:\n",
    "    df= pd.read_csv('../input/p9-data/df.csv')"
   ]
  },
  {
   "cell_type": "code",
   "execution_count": 15,
   "metadata": {
    "execution": {
     "iopub.execute_input": "2021-09-23T17:46:57.875555Z",
     "iopub.status.busy": "2021-09-23T17:46:57.875164Z",
     "iopub.status.idle": "2021-09-23T17:46:57.890561Z",
     "shell.execute_reply": "2021-09-23T17:46:57.889371Z",
     "shell.execute_reply.started": "2021-09-23T17:46:57.875510Z"
    },
    "trusted": true
   },
   "outputs": [
    {
     "data": {
      "text/html": [
       "<div>\n",
       "<style scoped>\n",
       "    .dataframe tbody tr th:only-of-type {\n",
       "        vertical-align: middle;\n",
       "    }\n",
       "\n",
       "    .dataframe tbody tr th {\n",
       "        vertical-align: top;\n",
       "    }\n",
       "\n",
       "    .dataframe thead th {\n",
       "        text-align: right;\n",
       "    }\n",
       "</style>\n",
       "<table border=\"1\" class=\"dataframe\">\n",
       "  <thead>\n",
       "    <tr style=\"text-align: right;\">\n",
       "      <th></th>\n",
       "      <th>user_id</th>\n",
       "      <th>LIST_click_article_id</th>\n",
       "      <th>categories</th>\n",
       "    </tr>\n",
       "  </thead>\n",
       "  <tbody>\n",
       "    <tr>\n",
       "      <th>0</th>\n",
       "      <td>0</td>\n",
       "      <td>[157541, 68866, 96755, 313996, 160158, 233470,...</td>\n",
       "      <td>[281, 136, 209, 431, 281, 375, 186, 186]</td>\n",
       "    </tr>\n",
       "    <tr>\n",
       "      <th>1</th>\n",
       "      <td>1</td>\n",
       "      <td>[235840, 96663, 59758, 160474, 285719, 156723,...</td>\n",
       "      <td>[375, 209, 123, 281, 412, 281, 331, 412, 435, ...</td>\n",
       "    </tr>\n",
       "    <tr>\n",
       "      <th>2</th>\n",
       "      <td>2</td>\n",
       "      <td>[119592, 30970, 30760, 209122]</td>\n",
       "      <td>[247, 26, 26, 332]</td>\n",
       "    </tr>\n",
       "    <tr>\n",
       "      <th>3</th>\n",
       "      <td>3</td>\n",
       "      <td>[236065, 236294, 234686, 233769, 235665, 23513...</td>\n",
       "      <td>[375, 375, 375, 375, 375, 375, 281, 375, 375, ...</td>\n",
       "    </tr>\n",
       "    <tr>\n",
       "      <th>4</th>\n",
       "      <td>4</td>\n",
       "      <td>[48915, 44488, 195887, 195084, 63307, 336499, ...</td>\n",
       "      <td>[92, 81, 317, 317, 132, 437, 399]</td>\n",
       "    </tr>\n",
       "    <tr>\n",
       "      <th>...</th>\n",
       "      <td>...</td>\n",
       "      <td>...</td>\n",
       "      <td>...</td>\n",
       "    </tr>\n",
       "    <tr>\n",
       "      <th>322892</th>\n",
       "      <td>322892</td>\n",
       "      <td>[42567, 39894]</td>\n",
       "      <td>[67, 66]</td>\n",
       "    </tr>\n",
       "    <tr>\n",
       "      <th>322893</th>\n",
       "      <td>322893</td>\n",
       "      <td>[50644, 36162]</td>\n",
       "      <td>[99, 43]</td>\n",
       "    </tr>\n",
       "    <tr>\n",
       "      <th>322894</th>\n",
       "      <td>322894</td>\n",
       "      <td>[36162, 168401]</td>\n",
       "      <td>[43, 297]</td>\n",
       "    </tr>\n",
       "    <tr>\n",
       "      <th>322895</th>\n",
       "      <td>322895</td>\n",
       "      <td>[289197, 63746]</td>\n",
       "      <td>[418, 133]</td>\n",
       "    </tr>\n",
       "    <tr>\n",
       "      <th>322896</th>\n",
       "      <td>322896</td>\n",
       "      <td>[30760, 157507]</td>\n",
       "      <td>[26, 281]</td>\n",
       "    </tr>\n",
       "  </tbody>\n",
       "</table>\n",
       "<p>322897 rows × 3 columns</p>\n",
       "</div>"
      ],
      "text/plain": [
       "        user_id                              LIST_click_article_id  \\\n",
       "0             0  [157541, 68866, 96755, 313996, 160158, 233470,...   \n",
       "1             1  [235840, 96663, 59758, 160474, 285719, 156723,...   \n",
       "2             2                     [119592, 30970, 30760, 209122]   \n",
       "3             3  [236065, 236294, 234686, 233769, 235665, 23513...   \n",
       "4             4  [48915, 44488, 195887, 195084, 63307, 336499, ...   \n",
       "...         ...                                                ...   \n",
       "322892   322892                                     [42567, 39894]   \n",
       "322893   322893                                     [50644, 36162]   \n",
       "322894   322894                                    [36162, 168401]   \n",
       "322895   322895                                    [289197, 63746]   \n",
       "322896   322896                                    [30760, 157507]   \n",
       "\n",
       "                                               categories  \n",
       "0                [281, 136, 209, 431, 281, 375, 186, 186]  \n",
       "1       [375, 209, 123, 281, 412, 281, 331, 412, 435, ...  \n",
       "2                                      [247, 26, 26, 332]  \n",
       "3       [375, 375, 375, 375, 375, 375, 281, 375, 375, ...  \n",
       "4                       [92, 81, 317, 317, 132, 437, 399]  \n",
       "...                                                   ...  \n",
       "322892                                           [67, 66]  \n",
       "322893                                           [99, 43]  \n",
       "322894                                          [43, 297]  \n",
       "322895                                         [418, 133]  \n",
       "322896                                          [26, 281]  \n",
       "\n",
       "[322897 rows x 3 columns]"
      ]
     },
     "execution_count": 15,
     "metadata": {},
     "output_type": "execute_result"
    }
   ],
   "source": [
    "df"
   ]
  },
  {
   "cell_type": "markdown",
   "metadata": {},
   "source": [
    "Now we have article_id and category_id that users clicked on.\n",
    "\n",
    "## Calculate clicks per user\n",
    "How many time an user clicked on a article from X category_id."
   ]
  },
  {
   "cell_type": "code",
   "execution_count": 23,
   "metadata": {
    "execution": {
     "iopub.execute_input": "2021-09-23T17:48:48.536080Z",
     "iopub.status.busy": "2021-09-23T17:48:48.535759Z",
     "iopub.status.idle": "2021-09-23T17:48:48.544370Z",
     "shell.execute_reply": "2021-09-23T17:48:48.543235Z",
     "shell.execute_reply.started": "2021-09-23T17:48:48.536042Z"
    },
    "trusted": true
   },
   "outputs": [],
   "source": [
    "def inputUserRatings(userId):\n",
    "    _matrix = pd.DataFrame(columns=['click'])\n",
    "    _row = df.loc[userId]['categories']\n",
    "    _row = _row.replace('[', '').replace(']', '').replace(',', '').split()\n",
    "    \n",
    "    for index, val in pd.Series(_row).value_counts().items():\n",
    "        _matrix.loc[index] = int(val)\n",
    "         \n",
    "    _matrix['click_norm'] = _matrix.apply(lambda x : x / _matrix['click'].max())\n",
    "    _matrix = _matrix.reset_index()\n",
    "    _matrix = _matrix.rename(columns={\"index\": \"category_id\"})\n",
    "    _matrix['category_id'] = _matrix['category_id'].astype(int)\n",
    "    \n",
    "    return _matrix"
   ]
  },
  {
   "cell_type": "code",
   "execution_count": 24,
   "metadata": {
    "execution": {
     "iopub.execute_input": "2021-09-23T17:48:48.949144Z",
     "iopub.status.busy": "2021-09-23T17:48:48.948855Z",
     "iopub.status.idle": "2021-09-23T17:48:48.976528Z",
     "shell.execute_reply": "2021-09-23T17:48:48.975343Z",
     "shell.execute_reply.started": "2021-09-23T17:48:48.949115Z"
    },
    "trusted": true
   },
   "outputs": [
    {
     "data": {
      "text/html": [
       "<div>\n",
       "<style scoped>\n",
       "    .dataframe tbody tr th:only-of-type {\n",
       "        vertical-align: middle;\n",
       "    }\n",
       "\n",
       "    .dataframe tbody tr th {\n",
       "        vertical-align: top;\n",
       "    }\n",
       "\n",
       "    .dataframe thead th {\n",
       "        text-align: right;\n",
       "    }\n",
       "</style>\n",
       "<table border=\"1\" class=\"dataframe\">\n",
       "  <thead>\n",
       "    <tr style=\"text-align: right;\">\n",
       "      <th></th>\n",
       "      <th>category_id</th>\n",
       "      <th>click</th>\n",
       "      <th>click_norm</th>\n",
       "    </tr>\n",
       "  </thead>\n",
       "  <tbody>\n",
       "    <tr>\n",
       "      <th>0</th>\n",
       "      <td>281</td>\n",
       "      <td>2</td>\n",
       "      <td>1.0</td>\n",
       "    </tr>\n",
       "    <tr>\n",
       "      <th>1</th>\n",
       "      <td>186</td>\n",
       "      <td>2</td>\n",
       "      <td>1.0</td>\n",
       "    </tr>\n",
       "    <tr>\n",
       "      <th>2</th>\n",
       "      <td>136</td>\n",
       "      <td>1</td>\n",
       "      <td>0.5</td>\n",
       "    </tr>\n",
       "    <tr>\n",
       "      <th>3</th>\n",
       "      <td>209</td>\n",
       "      <td>1</td>\n",
       "      <td>0.5</td>\n",
       "    </tr>\n",
       "    <tr>\n",
       "      <th>4</th>\n",
       "      <td>431</td>\n",
       "      <td>1</td>\n",
       "      <td>0.5</td>\n",
       "    </tr>\n",
       "    <tr>\n",
       "      <th>5</th>\n",
       "      <td>375</td>\n",
       "      <td>1</td>\n",
       "      <td>0.5</td>\n",
       "    </tr>\n",
       "  </tbody>\n",
       "</table>\n",
       "</div>"
      ],
      "text/plain": [
       "   category_id click click_norm\n",
       "0          281     2        1.0\n",
       "1          186     2        1.0\n",
       "2          136     1        0.5\n",
       "3          209     1        0.5\n",
       "4          431     1        0.5\n",
       "5          375     1        0.5"
      ]
     },
     "execution_count": 24,
     "metadata": {},
     "output_type": "execute_result"
    }
   ],
   "source": [
    "inputUserRatings(0)"
   ]
  },
  {
   "cell_type": "markdown",
   "metadata": {},
   "source": [
    "## Recommend books from the 360 000 books available based on prefered category_id."
   ]
  },
  {
   "cell_type": "code",
   "execution_count": 28,
   "metadata": {
    "execution": {
     "iopub.execute_input": "2021-09-23T17:49:31.785571Z",
     "iopub.status.busy": "2021-09-23T17:49:31.785268Z",
     "iopub.status.idle": "2021-09-23T17:49:31.795524Z",
     "shell.execute_reply": "2021-09-23T17:49:31.794542Z",
     "shell.execute_reply.started": "2021-09-23T17:49:31.785539Z"
    },
    "trusted": true
   },
   "outputs": [
    {
     "data": {
      "text/plain": [
       "article_id     int64\n",
       "category_id    int64\n",
       "dtype: object"
      ]
     },
     "metadata": {},
     "output_type": "display_data"
    }
   ],
   "source": [
    "articles_matrix = articles_metadata.loc[:, ['article_id', 'category_id']]\n",
    "display(articles_matrix.dtypes)"
   ]
  },
  {
   "cell_type": "code",
   "execution_count": 31,
   "metadata": {
    "execution": {
     "iopub.execute_input": "2021-09-23T17:50:25.125843Z",
     "iopub.status.busy": "2021-09-23T17:50:25.125516Z",
     "iopub.status.idle": "2021-09-23T17:50:25.134075Z",
     "shell.execute_reply": "2021-09-23T17:50:25.133029Z",
     "shell.execute_reply.started": "2021-09-23T17:50:25.125810Z"
    },
    "trusted": true
   },
   "outputs": [],
   "source": [
    "def recommend5(userId, articles_matrix):\n",
    "    _input_user_ratings = inputUserRatings(userId)\n",
    "    _articles_matrix = articles_matrix\n",
    "    \n",
    "    _weighed_articles_matrix = pd.DataFrame(columns=['article_id', 'category_id', 'weight'])\n",
    "    _weighed_articles_matrix['article_id'] = _articles_matrix['article_id']\n",
    "    _weighed_articles_matrix['category_id'] = _articles_matrix['category_id']\n",
    "    #display(_weighed_articles_matrix.dtypes)\n",
    "\n",
    "    _weighed_articles_matrix['weight'] = _weighed_articles_matrix['category_id'].apply(lambda x :\n",
    "                                                                                        0                                                                                           \n",
    "                                                                                       if(_input_user_ratings.loc[_input_user_ratings['category_id'] == x].empty == True)\n",
    "                                                                                       else\n",
    "                                                                                        _input_user_ratings.loc[_input_user_ratings['category_id'] == x].click_norm.values[0]\n",
    "                                                                                      )\n",
    "\n",
    "    \n",
    "    return _weighed_articles_matrix[_weighed_articles_matrix.weight > 0].sort_values(by=['weight'], ascending=False)"
   ]
  },
  {
   "cell_type": "code",
   "execution_count": 32,
   "metadata": {
    "execution": {
     "iopub.execute_input": "2021-09-23T17:50:25.364663Z",
     "iopub.status.busy": "2021-09-23T17:50:25.364303Z",
     "iopub.status.idle": "2021-09-23T17:52:38.112914Z",
     "shell.execute_reply": "2021-09-23T17:52:38.111878Z",
     "shell.execute_reply.started": "2021-09-23T17:50:25.364603Z"
    },
    "trusted": true
   },
   "outputs": [
    {
     "name": "stdout",
     "output_type": "stream",
     "text": [
      "CPU times: user 2min 17s, sys: 4.31 s, total: 2min 21s\n",
      "Wall time: 2min 12s\n"
     ]
    },
    {
     "data": {
      "text/html": [
       "<div>\n",
       "<style scoped>\n",
       "    .dataframe tbody tr th:only-of-type {\n",
       "        vertical-align: middle;\n",
       "    }\n",
       "\n",
       "    .dataframe tbody tr th {\n",
       "        vertical-align: top;\n",
       "    }\n",
       "\n",
       "    .dataframe thead th {\n",
       "        text-align: right;\n",
       "    }\n",
       "</style>\n",
       "<table border=\"1\" class=\"dataframe\">\n",
       "  <thead>\n",
       "    <tr style=\"text-align: right;\">\n",
       "      <th></th>\n",
       "      <th>article_id</th>\n",
       "      <th>category_id</th>\n",
       "      <th>weight</th>\n",
       "    </tr>\n",
       "  </thead>\n",
       "  <tbody>\n",
       "    <tr>\n",
       "      <th>158832</th>\n",
       "      <td>158832</td>\n",
       "      <td>281</td>\n",
       "      <td>1.0</td>\n",
       "    </tr>\n",
       "    <tr>\n",
       "      <th>154313</th>\n",
       "      <td>154313</td>\n",
       "      <td>281</td>\n",
       "      <td>1.0</td>\n",
       "    </tr>\n",
       "    <tr>\n",
       "      <th>154323</th>\n",
       "      <td>154323</td>\n",
       "      <td>281</td>\n",
       "      <td>1.0</td>\n",
       "    </tr>\n",
       "    <tr>\n",
       "      <th>154322</th>\n",
       "      <td>154322</td>\n",
       "      <td>281</td>\n",
       "      <td>1.0</td>\n",
       "    </tr>\n",
       "    <tr>\n",
       "      <th>154321</th>\n",
       "      <td>154321</td>\n",
       "      <td>281</td>\n",
       "      <td>1.0</td>\n",
       "    </tr>\n",
       "    <tr>\n",
       "      <th>...</th>\n",
       "      <td>...</td>\n",
       "      <td>...</td>\n",
       "      <td>...</td>\n",
       "    </tr>\n",
       "    <tr>\n",
       "      <th>95817</th>\n",
       "      <td>95817</td>\n",
       "      <td>209</td>\n",
       "      <td>0.5</td>\n",
       "    </tr>\n",
       "    <tr>\n",
       "      <th>95816</th>\n",
       "      <td>95816</td>\n",
       "      <td>209</td>\n",
       "      <td>0.5</td>\n",
       "    </tr>\n",
       "    <tr>\n",
       "      <th>95815</th>\n",
       "      <td>95815</td>\n",
       "      <td>209</td>\n",
       "      <td>0.5</td>\n",
       "    </tr>\n",
       "    <tr>\n",
       "      <th>95814</th>\n",
       "      <td>95814</td>\n",
       "      <td>209</td>\n",
       "      <td>0.5</td>\n",
       "    </tr>\n",
       "    <tr>\n",
       "      <th>316736</th>\n",
       "      <td>316736</td>\n",
       "      <td>431</td>\n",
       "      <td>0.5</td>\n",
       "    </tr>\n",
       "  </tbody>\n",
       "</table>\n",
       "<p>43586 rows × 3 columns</p>\n",
       "</div>"
      ],
      "text/plain": [
       "        article_id  category_id  weight\n",
       "158832      158832          281     1.0\n",
       "154313      154313          281     1.0\n",
       "154323      154323          281     1.0\n",
       "154322      154322          281     1.0\n",
       "154321      154321          281     1.0\n",
       "...            ...          ...     ...\n",
       "95817        95817          209     0.5\n",
       "95816        95816          209     0.5\n",
       "95815        95815          209     0.5\n",
       "95814        95814          209     0.5\n",
       "316736      316736          431     0.5\n",
       "\n",
       "[43586 rows x 3 columns]"
      ]
     },
     "execution_count": 32,
     "metadata": {},
     "output_type": "execute_result"
    }
   ],
   "source": [
    "%%time\n",
    "res = recommend5(0 , articles_matrix)\n",
    "res"
   ]
  },
  {
   "cell_type": "markdown",
   "metadata": {},
   "source": [
    "As you can see, it works but it takes too much time. Approx 2 min per user. Only works if user has few interactions.\n",
    "We will use the result of this algo to compare with the next algorithm."
   ]
  },
  {
   "cell_type": "markdown",
   "metadata": {},
   "source": [
    "# Collaborative filtering\n",
    "Let's try with using the surprise librairy.\n",
    "https://medium.com/hacktive-devs/recommender-system-made-easy-with-scikit-surprise-569cbb689824\n",
    "## Prepare data"
   ]
  },
  {
   "cell_type": "code",
   "execution_count": 33,
   "metadata": {
    "execution": {
     "iopub.execute_input": "2021-09-23T17:52:59.984534Z",
     "iopub.status.busy": "2021-09-23T17:52:59.984241Z",
     "iopub.status.idle": "2021-09-23T17:53:00.003890Z",
     "shell.execute_reply": "2021-09-23T17:53:00.002631Z",
     "shell.execute_reply.started": "2021-09-23T17:52:59.984503Z"
    },
    "trusted": true
   },
   "outputs": [
    {
     "data": {
      "text/html": [
       "<div>\n",
       "<style scoped>\n",
       "    .dataframe tbody tr th:only-of-type {\n",
       "        vertical-align: middle;\n",
       "    }\n",
       "\n",
       "    .dataframe tbody tr th {\n",
       "        vertical-align: top;\n",
       "    }\n",
       "\n",
       "    .dataframe thead th {\n",
       "        text-align: right;\n",
       "    }\n",
       "</style>\n",
       "<table border=\"1\" class=\"dataframe\">\n",
       "  <thead>\n",
       "    <tr style=\"text-align: right;\">\n",
       "      <th></th>\n",
       "      <th>user_id</th>\n",
       "      <th>session_id</th>\n",
       "      <th>session_start</th>\n",
       "      <th>session_size</th>\n",
       "      <th>click_article_id</th>\n",
       "      <th>click_timestamp</th>\n",
       "      <th>click_environment</th>\n",
       "      <th>click_deviceGroup</th>\n",
       "      <th>click_os</th>\n",
       "      <th>click_country</th>\n",
       "      <th>click_region</th>\n",
       "      <th>click_referrer_type</th>\n",
       "    </tr>\n",
       "  </thead>\n",
       "  <tbody>\n",
       "    <tr>\n",
       "      <th>0</th>\n",
       "      <td>0</td>\n",
       "      <td>1506825423271737</td>\n",
       "      <td>1506825423000</td>\n",
       "      <td>2</td>\n",
       "      <td>157541</td>\n",
       "      <td>1506826828020</td>\n",
       "      <td>4</td>\n",
       "      <td>3</td>\n",
       "      <td>20</td>\n",
       "      <td>1</td>\n",
       "      <td>20</td>\n",
       "      <td>2</td>\n",
       "    </tr>\n",
       "    <tr>\n",
       "      <th>1</th>\n",
       "      <td>0</td>\n",
       "      <td>1506825423271737</td>\n",
       "      <td>1506825423000</td>\n",
       "      <td>2</td>\n",
       "      <td>68866</td>\n",
       "      <td>1506826858020</td>\n",
       "      <td>4</td>\n",
       "      <td>3</td>\n",
       "      <td>20</td>\n",
       "      <td>1</td>\n",
       "      <td>20</td>\n",
       "      <td>2</td>\n",
       "    </tr>\n",
       "    <tr>\n",
       "      <th>2</th>\n",
       "      <td>1</td>\n",
       "      <td>1506825426267738</td>\n",
       "      <td>1506825426000</td>\n",
       "      <td>2</td>\n",
       "      <td>235840</td>\n",
       "      <td>1506827017951</td>\n",
       "      <td>4</td>\n",
       "      <td>1</td>\n",
       "      <td>17</td>\n",
       "      <td>1</td>\n",
       "      <td>16</td>\n",
       "      <td>2</td>\n",
       "    </tr>\n",
       "    <tr>\n",
       "      <th>3</th>\n",
       "      <td>1</td>\n",
       "      <td>1506825426267738</td>\n",
       "      <td>1506825426000</td>\n",
       "      <td>2</td>\n",
       "      <td>96663</td>\n",
       "      <td>1506827047951</td>\n",
       "      <td>4</td>\n",
       "      <td>1</td>\n",
       "      <td>17</td>\n",
       "      <td>1</td>\n",
       "      <td>16</td>\n",
       "      <td>2</td>\n",
       "    </tr>\n",
       "    <tr>\n",
       "      <th>4</th>\n",
       "      <td>2</td>\n",
       "      <td>1506825435299739</td>\n",
       "      <td>1506825435000</td>\n",
       "      <td>2</td>\n",
       "      <td>119592</td>\n",
       "      <td>1506827090575</td>\n",
       "      <td>4</td>\n",
       "      <td>1</td>\n",
       "      <td>17</td>\n",
       "      <td>1</td>\n",
       "      <td>24</td>\n",
       "      <td>2</td>\n",
       "    </tr>\n",
       "  </tbody>\n",
       "</table>\n",
       "</div>"
      ],
      "text/plain": [
       "  user_id        session_id  session_start session_size click_article_id  \\\n",
       "0       0  1506825423271737  1506825423000            2           157541   \n",
       "1       0  1506825423271737  1506825423000            2            68866   \n",
       "2       1  1506825426267738  1506825426000            2           235840   \n",
       "3       1  1506825426267738  1506825426000            2            96663   \n",
       "4       2  1506825435299739  1506825435000            2           119592   \n",
       "\n",
       "  click_timestamp click_environment click_deviceGroup click_os click_country  \\\n",
       "0   1506826828020                 4                 3       20             1   \n",
       "1   1506826858020                 4                 3       20             1   \n",
       "2   1506827017951                 4                 1       17             1   \n",
       "3   1506827047951                 4                 1       17             1   \n",
       "4   1506827090575                 4                 1       17             1   \n",
       "\n",
       "  click_region click_referrer_type  \n",
       "0           20                   2  \n",
       "1           20                   2  \n",
       "2           16                   2  \n",
       "3           16                   2  \n",
       "4           24                   2  "
      ]
     },
     "execution_count": 33,
     "metadata": {},
     "output_type": "execute_result"
    }
   ],
   "source": [
    "clicks.head()"
   ]
  },
  {
   "cell_type": "code",
   "execution_count": 34,
   "metadata": {
    "execution": {
     "iopub.execute_input": "2021-09-23T17:53:01.576490Z",
     "iopub.status.busy": "2021-09-23T17:53:01.576189Z",
     "iopub.status.idle": "2021-09-23T17:53:01.587321Z",
     "shell.execute_reply": "2021-09-23T17:53:01.586371Z",
     "shell.execute_reply.started": "2021-09-23T17:53:01.576458Z"
    },
    "trusted": true
   },
   "outputs": [
    {
     "data": {
      "text/html": [
       "<div>\n",
       "<style scoped>\n",
       "    .dataframe tbody tr th:only-of-type {\n",
       "        vertical-align: middle;\n",
       "    }\n",
       "\n",
       "    .dataframe tbody tr th {\n",
       "        vertical-align: top;\n",
       "    }\n",
       "\n",
       "    .dataframe thead th {\n",
       "        text-align: right;\n",
       "    }\n",
       "</style>\n",
       "<table border=\"1\" class=\"dataframe\">\n",
       "  <thead>\n",
       "    <tr style=\"text-align: right;\">\n",
       "      <th></th>\n",
       "      <th>article_id</th>\n",
       "      <th>category_id</th>\n",
       "      <th>created_at_ts</th>\n",
       "      <th>publisher_id</th>\n",
       "      <th>words_count</th>\n",
       "    </tr>\n",
       "  </thead>\n",
       "  <tbody>\n",
       "    <tr>\n",
       "      <th>0</th>\n",
       "      <td>0</td>\n",
       "      <td>0</td>\n",
       "      <td>1513144419000</td>\n",
       "      <td>0</td>\n",
       "      <td>168</td>\n",
       "    </tr>\n",
       "    <tr>\n",
       "      <th>1</th>\n",
       "      <td>1</td>\n",
       "      <td>1</td>\n",
       "      <td>1405341936000</td>\n",
       "      <td>0</td>\n",
       "      <td>189</td>\n",
       "    </tr>\n",
       "    <tr>\n",
       "      <th>2</th>\n",
       "      <td>2</td>\n",
       "      <td>1</td>\n",
       "      <td>1408667706000</td>\n",
       "      <td>0</td>\n",
       "      <td>250</td>\n",
       "    </tr>\n",
       "    <tr>\n",
       "      <th>3</th>\n",
       "      <td>3</td>\n",
       "      <td>1</td>\n",
       "      <td>1408468313000</td>\n",
       "      <td>0</td>\n",
       "      <td>230</td>\n",
       "    </tr>\n",
       "    <tr>\n",
       "      <th>4</th>\n",
       "      <td>4</td>\n",
       "      <td>1</td>\n",
       "      <td>1407071171000</td>\n",
       "      <td>0</td>\n",
       "      <td>162</td>\n",
       "    </tr>\n",
       "  </tbody>\n",
       "</table>\n",
       "</div>"
      ],
      "text/plain": [
       "   article_id  category_id  created_at_ts  publisher_id  words_count\n",
       "0           0            0  1513144419000             0          168\n",
       "1           1            1  1405341936000             0          189\n",
       "2           2            1  1408667706000             0          250\n",
       "3           3            1  1408468313000             0          230\n",
       "4           4            1  1407071171000             0          162"
      ]
     },
     "execution_count": 34,
     "metadata": {},
     "output_type": "execute_result"
    }
   ],
   "source": [
    "articles_metadata.head()"
   ]
  },
  {
   "cell_type": "code",
   "execution_count": 35,
   "metadata": {
    "execution": {
     "iopub.execute_input": "2021-09-23T17:53:05.193764Z",
     "iopub.status.busy": "2021-09-23T17:53:05.193164Z",
     "iopub.status.idle": "2021-09-23T17:53:08.614777Z",
     "shell.execute_reply": "2021-09-23T17:53:08.613843Z",
     "shell.execute_reply.started": "2021-09-23T17:53:05.193722Z"
    },
    "trusted": true
   },
   "outputs": [
    {
     "name": "stdout",
     "output_type": "stream",
     "text": [
      "CPU times: user 2.8 s, sys: 617 ms, total: 3.42 s\n",
      "Wall time: 3.41 s\n"
     ]
    }
   ],
   "source": [
    "%%time\n",
    "dataframe = clicks.merge(articles_metadata, left_on='click_article_id', right_on='article_id')"
   ]
  },
  {
   "cell_type": "code",
   "execution_count": 36,
   "metadata": {
    "execution": {
     "iopub.execute_input": "2021-09-23T17:53:08.618375Z",
     "iopub.status.busy": "2021-09-23T17:53:08.618131Z",
     "iopub.status.idle": "2021-09-23T17:53:08.997183Z",
     "shell.execute_reply": "2021-09-23T17:53:08.996602Z",
     "shell.execute_reply.started": "2021-09-23T17:53:08.618347Z"
    },
    "trusted": true
   },
   "outputs": [
    {
     "data": {
      "text/html": [
       "<div>\n",
       "<style scoped>\n",
       "    .dataframe tbody tr th:only-of-type {\n",
       "        vertical-align: middle;\n",
       "    }\n",
       "\n",
       "    .dataframe tbody tr th {\n",
       "        vertical-align: top;\n",
       "    }\n",
       "\n",
       "    .dataframe thead th {\n",
       "        text-align: right;\n",
       "    }\n",
       "</style>\n",
       "<table border=\"1\" class=\"dataframe\">\n",
       "  <thead>\n",
       "    <tr style=\"text-align: right;\">\n",
       "      <th></th>\n",
       "      <th>user_id</th>\n",
       "      <th>article_id</th>\n",
       "      <th>category_id</th>\n",
       "    </tr>\n",
       "  </thead>\n",
       "  <tbody>\n",
       "    <tr>\n",
       "      <th>0</th>\n",
       "      <td>0</td>\n",
       "      <td>157541</td>\n",
       "      <td>281</td>\n",
       "    </tr>\n",
       "    <tr>\n",
       "      <th>1</th>\n",
       "      <td>20</td>\n",
       "      <td>157541</td>\n",
       "      <td>281</td>\n",
       "    </tr>\n",
       "    <tr>\n",
       "      <th>2</th>\n",
       "      <td>44</td>\n",
       "      <td>157541</td>\n",
       "      <td>281</td>\n",
       "    </tr>\n",
       "    <tr>\n",
       "      <th>3</th>\n",
       "      <td>45</td>\n",
       "      <td>157541</td>\n",
       "      <td>281</td>\n",
       "    </tr>\n",
       "    <tr>\n",
       "      <th>4</th>\n",
       "      <td>76</td>\n",
       "      <td>157541</td>\n",
       "      <td>281</td>\n",
       "    </tr>\n",
       "    <tr>\n",
       "      <th>...</th>\n",
       "      <td>...</td>\n",
       "      <td>...</td>\n",
       "      <td>...</td>\n",
       "    </tr>\n",
       "    <tr>\n",
       "      <th>2988176</th>\n",
       "      <td>195186</td>\n",
       "      <td>2221</td>\n",
       "      <td>1</td>\n",
       "    </tr>\n",
       "    <tr>\n",
       "      <th>2988177</th>\n",
       "      <td>75658</td>\n",
       "      <td>271117</td>\n",
       "      <td>399</td>\n",
       "    </tr>\n",
       "    <tr>\n",
       "      <th>2988178</th>\n",
       "      <td>217129</td>\n",
       "      <td>20204</td>\n",
       "      <td>9</td>\n",
       "    </tr>\n",
       "    <tr>\n",
       "      <th>2988179</th>\n",
       "      <td>217129</td>\n",
       "      <td>70196</td>\n",
       "      <td>136</td>\n",
       "    </tr>\n",
       "    <tr>\n",
       "      <th>2988180</th>\n",
       "      <td>51099</td>\n",
       "      <td>98243</td>\n",
       "      <td>220</td>\n",
       "    </tr>\n",
       "  </tbody>\n",
       "</table>\n",
       "<p>2988181 rows × 3 columns</p>\n",
       "</div>"
      ],
      "text/plain": [
       "        user_id  article_id  category_id\n",
       "0             0      157541          281\n",
       "1            20      157541          281\n",
       "2            44      157541          281\n",
       "3            45      157541          281\n",
       "4            76      157541          281\n",
       "...         ...         ...          ...\n",
       "2988176  195186        2221            1\n",
       "2988177   75658      271117          399\n",
       "2988178  217129       20204            9\n",
       "2988179  217129       70196          136\n",
       "2988180   51099       98243          220\n",
       "\n",
       "[2988181 rows x 3 columns]"
      ]
     },
     "execution_count": 36,
     "metadata": {},
     "output_type": "execute_result"
    }
   ],
   "source": [
    "dataframe = dataframe[['user_id', 'article_id', 'category_id']]\n",
    "dataframe"
   ]
  },
  {
   "cell_type": "code",
   "execution_count": 40,
   "metadata": {
    "execution": {
     "iopub.execute_input": "2021-09-23T17:53:43.832900Z",
     "iopub.status.busy": "2021-09-23T17:53:43.832064Z",
     "iopub.status.idle": "2021-09-23T17:53:46.473545Z",
     "shell.execute_reply": "2021-09-23T17:53:46.472663Z",
     "shell.execute_reply.started": "2021-09-23T17:53:43.832852Z"
    },
    "trusted": true
   },
   "outputs": [
    {
     "name": "stdout",
     "output_type": "stream",
     "text": [
      "CPU times: user 2.46 s, sys: 185 ms, total: 2.64 s\n",
      "Wall time: 2.63 s\n"
     ]
    }
   ],
   "source": [
    "%%time\n",
    "series = dataframe.groupby(['user_id', 'category_id']).size()\n",
    "user_rating_matrix = series.to_frame()\n",
    "user_rating_matrix = user_rating_matrix.reset_index()\n",
    "user_rating_matrix.rename(columns = {0:'rate'}, inplace = True)"
   ]
  },
  {
   "cell_type": "code",
   "execution_count": 41,
   "metadata": {
    "execution": {
     "iopub.execute_input": "2021-09-23T17:53:46.475114Z",
     "iopub.status.busy": "2021-09-23T17:53:46.474899Z",
     "iopub.status.idle": "2021-09-23T17:53:46.489857Z",
     "shell.execute_reply": "2021-09-23T17:53:46.488760Z",
     "shell.execute_reply.started": "2021-09-23T17:53:46.475089Z"
    },
    "trusted": true
   },
   "outputs": [
    {
     "data": {
      "text/html": [
       "<div>\n",
       "<style scoped>\n",
       "    .dataframe tbody tr th:only-of-type {\n",
       "        vertical-align: middle;\n",
       "    }\n",
       "\n",
       "    .dataframe tbody tr th {\n",
       "        vertical-align: top;\n",
       "    }\n",
       "\n",
       "    .dataframe thead th {\n",
       "        text-align: right;\n",
       "    }\n",
       "</style>\n",
       "<table border=\"1\" class=\"dataframe\">\n",
       "  <thead>\n",
       "    <tr style=\"text-align: right;\">\n",
       "      <th></th>\n",
       "      <th>user_id</th>\n",
       "      <th>category_id</th>\n",
       "      <th>rate</th>\n",
       "    </tr>\n",
       "  </thead>\n",
       "  <tbody>\n",
       "    <tr>\n",
       "      <th>0</th>\n",
       "      <td>0</td>\n",
       "      <td>136</td>\n",
       "      <td>1</td>\n",
       "    </tr>\n",
       "    <tr>\n",
       "      <th>1</th>\n",
       "      <td>0</td>\n",
       "      <td>186</td>\n",
       "      <td>2</td>\n",
       "    </tr>\n",
       "    <tr>\n",
       "      <th>2</th>\n",
       "      <td>0</td>\n",
       "      <td>209</td>\n",
       "      <td>1</td>\n",
       "    </tr>\n",
       "    <tr>\n",
       "      <th>3</th>\n",
       "      <td>0</td>\n",
       "      <td>281</td>\n",
       "      <td>2</td>\n",
       "    </tr>\n",
       "    <tr>\n",
       "      <th>4</th>\n",
       "      <td>0</td>\n",
       "      <td>375</td>\n",
       "      <td>1</td>\n",
       "    </tr>\n",
       "    <tr>\n",
       "      <th>...</th>\n",
       "      <td>...</td>\n",
       "      <td>...</td>\n",
       "      <td>...</td>\n",
       "    </tr>\n",
       "    <tr>\n",
       "      <th>1882297</th>\n",
       "      <td>322894</td>\n",
       "      <td>297</td>\n",
       "      <td>1</td>\n",
       "    </tr>\n",
       "    <tr>\n",
       "      <th>1882298</th>\n",
       "      <td>322895</td>\n",
       "      <td>133</td>\n",
       "      <td>1</td>\n",
       "    </tr>\n",
       "    <tr>\n",
       "      <th>1882299</th>\n",
       "      <td>322895</td>\n",
       "      <td>418</td>\n",
       "      <td>1</td>\n",
       "    </tr>\n",
       "    <tr>\n",
       "      <th>1882300</th>\n",
       "      <td>322896</td>\n",
       "      <td>26</td>\n",
       "      <td>1</td>\n",
       "    </tr>\n",
       "    <tr>\n",
       "      <th>1882301</th>\n",
       "      <td>322896</td>\n",
       "      <td>281</td>\n",
       "      <td>1</td>\n",
       "    </tr>\n",
       "  </tbody>\n",
       "</table>\n",
       "<p>1882302 rows × 3 columns</p>\n",
       "</div>"
      ],
      "text/plain": [
       "         user_id  category_id  rate\n",
       "0              0          136     1\n",
       "1              0          186     2\n",
       "2              0          209     1\n",
       "3              0          281     2\n",
       "4              0          375     1\n",
       "...          ...          ...   ...\n",
       "1882297   322894          297     1\n",
       "1882298   322895          133     1\n",
       "1882299   322895          418     1\n",
       "1882300   322896           26     1\n",
       "1882301   322896          281     1\n",
       "\n",
       "[1882302 rows x 3 columns]"
      ]
     },
     "execution_count": 41,
     "metadata": {},
     "output_type": "execute_result"
    }
   ],
   "source": [
    "user_rating_matrix"
   ]
  },
  {
   "cell_type": "markdown",
   "metadata": {},
   "source": [
    "This is very similar to our previous function *inputUserRatings* but here it's a dataframe with every user."
   ]
  },
  {
   "cell_type": "code",
   "execution_count": 83,
   "metadata": {
    "execution": {
     "iopub.execute_input": "2021-09-23T18:21:02.393810Z",
     "iopub.status.busy": "2021-09-23T18:21:02.393398Z",
     "iopub.status.idle": "2021-09-23T18:21:03.165372Z",
     "shell.execute_reply": "2021-09-23T18:21:03.164146Z",
     "shell.execute_reply.started": "2021-09-23T18:21:02.393760Z"
    },
    "trusted": true
   },
   "outputs": [
    {
     "name": "stdout",
     "output_type": "stream",
     "text": [
      "We have selects 503616 interactions.\n"
     ]
    }
   ],
   "source": [
    "reader = Reader(rating_scale=(1,10))\n",
    "_x = user_rating_matrix.loc[user_rating_matrix.rate > 1]\n",
    "data = Dataset.load_from_df(_x[['user_id', 'category_id', 'rate']], reader)\n",
    "\n",
    "print('We have selects', len(_x), 'interactions.')"
   ]
  },
  {
   "cell_type": "markdown",
   "metadata": {},
   "source": [
    "## Using the surprise librairy"
   ]
  },
  {
   "cell_type": "code",
   "execution_count": 84,
   "metadata": {
    "execution": {
     "iopub.execute_input": "2021-09-23T18:21:03.168121Z",
     "iopub.status.busy": "2021-09-23T18:21:03.167676Z",
     "iopub.status.idle": "2021-09-23T18:21:05.649424Z",
     "shell.execute_reply": "2021-09-23T18:21:05.648752Z",
     "shell.execute_reply.started": "2021-09-23T18:21:03.168073Z"
    },
    "trusted": true
   },
   "outputs": [
    {
     "name": "stdout",
     "output_type": "stream",
     "text": [
      "Test set lenght : 125904\n",
      "Train set lenght : 377712\n",
      "CPU times: user 2.46 s, sys: 18.3 ms, total: 2.48 s\n",
      "Wall time: 2.48 s\n"
     ]
    }
   ],
   "source": [
    "%%time\n",
    "trainset, testset = train_test_split(data, test_size=0.25)\n",
    "print('Test set lenght :', len(testset))\n",
    "print('Train set lenght :', len(_x) - len(testset))"
   ]
  },
  {
   "cell_type": "code",
   "execution_count": 85,
   "metadata": {
    "execution": {
     "iopub.execute_input": "2021-09-23T18:21:05.651211Z",
     "iopub.status.busy": "2021-09-23T18:21:05.650969Z",
     "iopub.status.idle": "2021-09-23T18:21:49.359731Z",
     "shell.execute_reply": "2021-09-23T18:21:49.358893Z",
     "shell.execute_reply.started": "2021-09-23T18:21:05.651182Z"
    },
    "trusted": true
   },
   "outputs": [
    {
     "name": "stdout",
     "output_type": "stream",
     "text": [
      "CPU times: user 43.6 s, sys: 25.5 ms, total: 43.6 s\n",
      "Wall time: 43.7 s\n"
     ]
    },
    {
     "data": {
      "text/plain": [
       "<surprise.prediction_algorithms.matrix_factorization.SVD at 0x7f25fd777850>"
      ]
     },
     "execution_count": 85,
     "metadata": {},
     "output_type": "execute_result"
    }
   ],
   "source": [
    "%%time\n",
    "from surprise import SVD, accuracy\n",
    "algo = SVD()\n",
    "algo.fit(trainset)"
   ]
  },
  {
   "cell_type": "code",
   "execution_count": 86,
   "metadata": {
    "execution": {
     "iopub.execute_input": "2021-09-23T18:21:49.361071Z",
     "iopub.status.busy": "2021-09-23T18:21:49.360842Z",
     "iopub.status.idle": "2021-09-23T18:21:50.798058Z",
     "shell.execute_reply": "2021-09-23T18:21:50.797152Z",
     "shell.execute_reply.started": "2021-09-23T18:21:49.361042Z"
    },
    "trusted": true
   },
   "outputs": [
    {
     "name": "stdout",
     "output_type": "stream",
     "text": [
      "Number of predictions in Test set : 125904\n",
      "CPU times: user 1.42 s, sys: 41.7 ms, total: 1.46 s\n",
      "Wall time: 1.43 s\n"
     ]
    }
   ],
   "source": [
    "%%time\n",
    "predictions = algo.test(testset)\n",
    "print('Number of predictions in Test set :', len(predictions))"
   ]
  },
  {
   "cell_type": "code",
   "execution_count": 87,
   "metadata": {
    "execution": {
     "iopub.execute_input": "2021-09-23T18:21:50.800223Z",
     "iopub.status.busy": "2021-09-23T18:21:50.799977Z",
     "iopub.status.idle": "2021-09-23T18:21:50.935250Z",
     "shell.execute_reply": "2021-09-23T18:21:50.934407Z",
     "shell.execute_reply.started": "2021-09-23T18:21:50.800194Z"
    },
    "trusted": true
   },
   "outputs": [
    {
     "name": "stdout",
     "output_type": "stream",
     "text": [
      "RMSE: 7.4133\n",
      "CPU times: user 128 ms, sys: 972 µs, total: 129 ms\n",
      "Wall time: 127 ms\n"
     ]
    },
    {
     "data": {
      "text/plain": [
       "7.413344626148932"
      ]
     },
     "execution_count": 87,
     "metadata": {},
     "output_type": "execute_result"
    }
   ],
   "source": [
    "%%time\n",
    "accuracy.rmse(predictions)"
   ]
  },
  {
   "cell_type": "code",
   "execution_count": 88,
   "metadata": {
    "execution": {
     "iopub.execute_input": "2021-09-23T18:21:50.936711Z",
     "iopub.status.busy": "2021-09-23T18:21:50.936374Z",
     "iopub.status.idle": "2021-09-23T18:21:50.943305Z",
     "shell.execute_reply": "2021-09-23T18:21:50.942693Z",
     "shell.execute_reply.started": "2021-09-23T18:21:50.936680Z"
    },
    "trusted": true
   },
   "outputs": [],
   "source": [
    "from collections import defaultdict\n",
    "\n",
    "\n",
    "def get_top_n(predictions, n=10):\n",
    "    \"\"\"Return the top-N recommendation for each user from a set of predictions.\n",
    "\n",
    "    Args:\n",
    "        predictions(list of Prediction objects): The list of predictions, as\n",
    "            returned by the test method of an algorithm.\n",
    "        n(int): The number of recommendation to output for each user. Default\n",
    "            is 10.\n",
    "\n",
    "    Returns:\n",
    "    A dict where keys are user (raw) ids and values are lists of tuples:\n",
    "        [(raw item id, rating estimation), ...] of size n.\n",
    "    \"\"\"\n",
    "\n",
    "    # First map the predictions to each user.\n",
    "    top_n = defaultdict(list)\n",
    "    for uid, iid, true_r, est, _ in predictions:\n",
    "        top_n[uid].append((iid, est))\n",
    "\n",
    "    # Then sort the predictions for each user and retrieve the k highest ones.\n",
    "    for uid, user_ratings in top_n.items():\n",
    "        user_ratings.sort(key=lambda x: x[1], reverse=True)\n",
    "        top_n[uid] = user_ratings[:n]\n",
    "\n",
    "    return top_n"
   ]
  },
  {
   "cell_type": "code",
   "execution_count": 89,
   "metadata": {
    "execution": {
     "iopub.execute_input": "2021-09-23T18:22:31.124050Z",
     "iopub.status.busy": "2021-09-23T18:22:31.123772Z",
     "iopub.status.idle": "2021-09-23T18:22:31.401211Z",
     "shell.execute_reply": "2021-09-23T18:22:31.400074Z",
     "shell.execute_reply.started": "2021-09-23T18:22:31.124020Z"
    },
    "trusted": true
   },
   "outputs": [
    {
     "name": "stdout",
     "output_type": "stream",
     "text": [
      "CPU times: user 267 ms, sys: 5.96 ms, total: 273 ms\n",
      "Wall time: 272 ms\n"
     ]
    }
   ],
   "source": [
    "%%time\n",
    "top_n = get_top_n(predictions, n=10)"
   ]
  },
  {
   "cell_type": "code",
   "execution_count": null,
   "metadata": {
    "execution": {
     "iopub.execute_input": "2021-09-23T17:15:52.848659Z",
     "iopub.status.busy": "2021-09-23T17:15:52.848281Z",
     "iopub.status.idle": "2021-09-23T17:15:53.20956Z",
     "shell.execute_reply": "2021-09-23T17:15:53.208626Z",
     "shell.execute_reply.started": "2021-09-23T17:15:52.848624Z"
    },
    "trusted": true
   },
   "outputs": [],
   "source": [
    "with open(\"top_n.txt\", \"wb\") as fp:\n",
    "    pickle.dump(top_n, fp)"
   ]
  },
  {
   "cell_type": "code",
   "execution_count": 93,
   "metadata": {
    "execution": {
     "iopub.execute_input": "2021-09-23T18:22:52.257924Z",
     "iopub.status.busy": "2021-09-23T18:22:52.257500Z",
     "iopub.status.idle": "2021-09-23T18:22:52.261595Z",
     "shell.execute_reply": "2021-09-23T18:22:52.260988Z",
     "shell.execute_reply.started": "2021-09-23T18:22:52.257892Z"
    },
    "trusted": true
   },
   "outputs": [],
   "source": [
    "def findRecom(dic, userId):\n",
    "    res = []\n",
    "    query = dic[userId]\n",
    "    for uid, user_ratings in query:\n",
    "        res.append(uid)\n",
    "    return res"
   ]
  },
  {
   "cell_type": "code",
   "execution_count": 94,
   "metadata": {
    "execution": {
     "iopub.execute_input": "2021-09-23T18:22:52.409113Z",
     "iopub.status.busy": "2021-09-23T18:22:52.408687Z",
     "iopub.status.idle": "2021-09-23T18:22:52.413916Z",
     "shell.execute_reply": "2021-09-23T18:22:52.413191Z",
     "shell.execute_reply.started": "2021-09-23T18:22:52.409081Z"
    },
    "trusted": true
   },
   "outputs": [
    {
     "data": {
      "text/plain": [
       "[186, 281]"
      ]
     },
     "execution_count": 94,
     "metadata": {},
     "output_type": "execute_result"
    }
   ],
   "source": [
    "findRecom(top_n, 0)"
   ]
  },
  {
   "cell_type": "markdown",
   "metadata": {},
   "source": [
    "Let's compare the result with our first algo"
   ]
  },
  {
   "cell_type": "code",
   "execution_count": 96,
   "metadata": {
    "execution": {
     "iopub.execute_input": "2021-09-23T18:23:29.666791Z",
     "iopub.status.busy": "2021-09-23T18:23:29.666503Z",
     "iopub.status.idle": "2021-09-23T18:23:29.703501Z",
     "shell.execute_reply": "2021-09-23T18:23:29.702495Z",
     "shell.execute_reply.started": "2021-09-23T18:23:29.666762Z"
    },
    "trusted": true
   },
   "outputs": [
    {
     "data": {
      "text/html": [
       "<div>\n",
       "<style scoped>\n",
       "    .dataframe tbody tr th:only-of-type {\n",
       "        vertical-align: middle;\n",
       "    }\n",
       "\n",
       "    .dataframe tbody tr th {\n",
       "        vertical-align: top;\n",
       "    }\n",
       "\n",
       "    .dataframe thead th {\n",
       "        text-align: right;\n",
       "    }\n",
       "</style>\n",
       "<table border=\"1\" class=\"dataframe\">\n",
       "  <thead>\n",
       "    <tr style=\"text-align: right;\">\n",
       "      <th></th>\n",
       "      <th>weight</th>\n",
       "    </tr>\n",
       "    <tr>\n",
       "      <th>category_id</th>\n",
       "      <th></th>\n",
       "    </tr>\n",
       "  </thead>\n",
       "  <tbody>\n",
       "    <tr>\n",
       "      <th>186</th>\n",
       "      <td>1.0</td>\n",
       "    </tr>\n",
       "    <tr>\n",
       "      <th>281</th>\n",
       "      <td>1.0</td>\n",
       "    </tr>\n",
       "    <tr>\n",
       "      <th>136</th>\n",
       "      <td>0.5</td>\n",
       "    </tr>\n",
       "    <tr>\n",
       "      <th>209</th>\n",
       "      <td>0.5</td>\n",
       "    </tr>\n",
       "    <tr>\n",
       "      <th>375</th>\n",
       "      <td>0.5</td>\n",
       "    </tr>\n",
       "    <tr>\n",
       "      <th>431</th>\n",
       "      <td>0.5</td>\n",
       "    </tr>\n",
       "  </tbody>\n",
       "</table>\n",
       "</div>"
      ],
      "text/plain": [
       "             weight\n",
       "category_id        \n",
       "186             1.0\n",
       "281             1.0\n",
       "136             0.5\n",
       "209             0.5\n",
       "375             0.5\n",
       "431             0.5"
      ]
     },
     "execution_count": 96,
     "metadata": {},
     "output_type": "execute_result"
    }
   ],
   "source": [
    "res[['category_id', 'weight']].groupby('category_id').mean().sort_values('weight', ascending=False)"
   ]
  },
  {
   "cell_type": "markdown",
   "metadata": {},
   "source": [
    "We can see we have the same result as previously."
   ]
  },
  {
   "cell_type": "markdown",
   "metadata": {},
   "source": [
    "# Content-based : using articles embedding"
   ]
  },
  {
   "cell_type": "markdown",
   "metadata": {},
   "source": [
    "## Method 1 : We calculate every combinaison each time (use CPU)."
   ]
  },
  {
   "cell_type": "code",
   "execution_count": 97,
   "metadata": {
    "execution": {
     "iopub.execute_input": "2021-09-23T18:23:57.141050Z",
     "iopub.status.busy": "2021-09-23T18:23:57.139976Z",
     "iopub.status.idle": "2021-09-23T18:24:02.855084Z",
     "shell.execute_reply": "2021-09-23T18:24:02.854175Z",
     "shell.execute_reply.started": "2021-09-23T18:23:57.141011Z"
    },
    "trusted": true
   },
   "outputs": [],
   "source": [
    "pickle = pd.read_pickle('../input/news-portal-user-interactions-by-globocom/articles_embeddings.pickle')\n",
    "pickle.shape"
   ]
  },
  {
   "cell_type": "code",
   "execution_count": 98,
   "metadata": {
    "execution": {
     "iopub.execute_input": "2021-09-23T18:24:04.566745Z",
     "iopub.status.busy": "2021-09-23T18:24:04.566452Z",
     "iopub.status.idle": "2021-09-23T18:24:04.572768Z",
     "shell.execute_reply": "2021-09-23T18:24:04.571697Z",
     "shell.execute_reply.started": "2021-09-23T18:24:04.566716Z"
    },
    "trusted": true
   },
   "outputs": [],
   "source": [
    "from operator import itemgetter\n",
    "\n",
    "def find_top_n_indices(data, top=5):\n",
    "    indexed = enumerate(data)\n",
    "    sorted_data = sorted(indexed, \n",
    "                         key=itemgetter(1), \n",
    "                         reverse=True) \n",
    "    return [d[0] for d in sorted_data[:top]] "
   ]
  },
  {
   "cell_type": "code",
   "execution_count": 99,
   "metadata": {
    "execution": {
     "iopub.execute_input": "2021-09-23T18:24:06.441821Z",
     "iopub.status.busy": "2021-09-23T18:24:06.440998Z",
     "iopub.status.idle": "2021-09-23T18:24:06.448632Z",
     "shell.execute_reply": "2021-09-23T18:24:06.447748Z",
     "shell.execute_reply.started": "2021-09-23T18:24:06.441782Z"
    },
    "trusted": true
   },
   "outputs": [],
   "source": [
    "def recommendFromArticle(article_id, top):\n",
    "    score = []\n",
    "    for i in range(0, len(pickle)):\n",
    "        if(article_id != i):\n",
    "            cos_sim = np.dot(pickle[article_id], pickle[i])/(np.linalg.norm(pickle[article_id])*np.linalg.norm(pickle[i]))\n",
    "            score.append(cos_sim)\n",
    "    \n",
    "    _best_scores = find_top_n_indices(score, top)\n",
    "            \n",
    "    return _best_scores"
   ]
  },
  {
   "cell_type": "code",
   "execution_count": 100,
   "metadata": {
    "execution": {
     "iopub.execute_input": "2021-09-23T18:24:13.305819Z",
     "iopub.status.busy": "2021-09-23T18:24:13.305511Z",
     "iopub.status.idle": "2021-09-23T18:24:23.804794Z",
     "shell.execute_reply": "2021-09-23T18:24:23.803763Z",
     "shell.execute_reply.started": "2021-09-23T18:24:13.305785Z"
    },
    "trusted": true
   },
   "outputs": [
    {
     "name": "stdout",
     "output_type": "stream",
     "text": [
      "CPU times: user 10.5 s, sys: 28.8 ms, total: 10.5 s\n",
      "Wall time: 10.5 s\n"
     ]
    },
    {
     "data": {
      "text/plain": [
       "[156576,\n",
       " 159580,\n",
       " 158063,\n",
       " 159644,\n",
       " 161399,\n",
       " 153833,\n",
       " 207423,\n",
       " 158717,\n",
       " 158719,\n",
       " 155014]"
      ]
     },
     "execution_count": 100,
     "metadata": {},
     "output_type": "execute_result"
    }
   ],
   "source": [
    "%%time\n",
    "recommendFromArticle(157077, 10)"
   ]
  },
  {
   "cell_type": "markdown",
   "metadata": {},
   "source": [
    "## Method 2 : Creating a linear kernel (use Memory)\n",
    "We must sample the pickle because we 'only' have 16go of RAM."
   ]
  },
  {
   "cell_type": "code",
   "execution_count": 102,
   "metadata": {
    "execution": {
     "iopub.execute_input": "2021-09-23T18:25:37.382264Z",
     "iopub.status.busy": "2021-09-23T18:25:37.381968Z",
     "iopub.status.idle": "2021-09-23T18:25:55.351157Z",
     "shell.execute_reply": "2021-09-23T18:25:55.349982Z",
     "shell.execute_reply.started": "2021-09-23T18:25:37.382232Z"
    },
    "trusted": true
   },
   "outputs": [
    {
     "data": {
      "text/plain": [
       "(50000, 50000)"
      ]
     },
     "execution_count": 102,
     "metadata": {},
     "output_type": "execute_result"
    }
   ],
   "source": [
    "cosine_similarities = linear_kernel(pickle[:50000], pickle[:50000]) \n",
    "cosine_similarities.shape"
   ]
  },
  {
   "cell_type": "code",
   "execution_count": 103,
   "metadata": {
    "execution": {
     "iopub.execute_input": "2021-09-23T18:25:55.354664Z",
     "iopub.status.busy": "2021-09-23T18:25:55.353946Z",
     "iopub.status.idle": "2021-09-23T18:25:55.360294Z",
     "shell.execute_reply": "2021-09-23T18:25:55.359506Z",
     "shell.execute_reply.started": "2021-09-23T18:25:55.354622Z"
    },
    "trusted": true
   },
   "outputs": [],
   "source": [
    "titles = articles_metadata['article_id']\n",
    "indices = pd.Series(articles_metadata.index, index=articles_metadata['article_id'])"
   ]
  },
  {
   "cell_type": "code",
   "execution_count": 104,
   "metadata": {
    "execution": {
     "iopub.execute_input": "2021-09-23T18:25:55.362671Z",
     "iopub.status.busy": "2021-09-23T18:25:55.361688Z",
     "iopub.status.idle": "2021-09-23T18:25:55.377008Z",
     "shell.execute_reply": "2021-09-23T18:25:55.375847Z",
     "shell.execute_reply.started": "2021-09-23T18:25:55.362590Z"
    },
    "trusted": true
   },
   "outputs": [],
   "source": [
    "def simScores(title):\n",
    "    idx = indices[title]\n",
    "    sim_scores = list(enumerate(cosine_similarities[idx]))\n",
    "    sim_scores = sorted(sim_scores, key=lambda x: x[1], reverse=True)\n",
    "    sim_scores = sim_scores[1:21]\n",
    "    \n",
    "    return sim_scores\n",
    "    print(sim_scores)"
   ]
  },
  {
   "cell_type": "code",
   "execution_count": 108,
   "metadata": {
    "execution": {
     "iopub.execute_input": "2021-09-23T18:26:11.700681Z",
     "iopub.status.busy": "2021-09-23T18:26:11.700358Z",
     "iopub.status.idle": "2021-09-23T18:26:11.709012Z",
     "shell.execute_reply": "2021-09-23T18:26:11.708164Z",
     "shell.execute_reply.started": "2021-09-23T18:26:11.700648Z"
    },
    "trusted": true
   },
   "outputs": [],
   "source": [
    "def predictWSimScores(userId):\n",
    "    _input_user_ratings = inputUserRatings(userId)\n",
    "    _result = []\n",
    "    for index, row in _input_user_ratings.iterrows():\n",
    "        _x = simScores(row.category_id)\n",
    "        for i in range(1, row.click + 1):\n",
    "            _result = _result + _x\n",
    "    return _result"
   ]
  },
  {
   "cell_type": "code",
   "execution_count": 112,
   "metadata": {
    "execution": {
     "iopub.execute_input": "2021-09-23T18:26:28.488416Z",
     "iopub.status.busy": "2021-09-23T18:26:28.488095Z",
     "iopub.status.idle": "2021-09-23T18:26:29.192846Z",
     "shell.execute_reply": "2021-09-23T18:26:29.192155Z",
     "shell.execute_reply.started": "2021-09-23T18:26:28.488385Z"
    },
    "trusted": true
   },
   "outputs": [
    {
     "name": "stdout",
     "output_type": "stream",
     "text": [
      "CPU times: user 697 ms, sys: 4.75 ms, total: 702 ms\n",
      "Wall time: 700 ms\n"
     ]
    }
   ],
   "source": [
    "%%time\n",
    "test = predictWSimScores(0)"
   ]
  },
  {
   "cell_type": "code",
   "execution_count": 113,
   "metadata": {
    "execution": {
     "iopub.execute_input": "2021-09-23T18:26:36.661799Z",
     "iopub.status.busy": "2021-09-23T18:26:36.661324Z",
     "iopub.status.idle": "2021-09-23T18:26:36.675758Z",
     "shell.execute_reply": "2021-09-23T18:26:36.674827Z",
     "shell.execute_reply.started": "2021-09-23T18:26:36.661768Z"
    },
    "trusted": true
   },
   "outputs": [
    {
     "data": {
      "text/html": [
       "<div>\n",
       "<style scoped>\n",
       "    .dataframe tbody tr th:only-of-type {\n",
       "        vertical-align: middle;\n",
       "    }\n",
       "\n",
       "    .dataframe tbody tr th {\n",
       "        vertical-align: top;\n",
       "    }\n",
       "\n",
       "    .dataframe thead th {\n",
       "        text-align: right;\n",
       "    }\n",
       "</style>\n",
       "<table border=\"1\" class=\"dataframe\">\n",
       "  <thead>\n",
       "    <tr style=\"text-align: right;\">\n",
       "      <th></th>\n",
       "      <th>score</th>\n",
       "    </tr>\n",
       "    <tr>\n",
       "      <th>category_id</th>\n",
       "      <th></th>\n",
       "    </tr>\n",
       "  </thead>\n",
       "  <tbody>\n",
       "    <tr>\n",
       "      <th>1389</th>\n",
       "      <td>78.464760</td>\n",
       "    </tr>\n",
       "    <tr>\n",
       "      <th>1256</th>\n",
       "      <td>77.300613</td>\n",
       "    </tr>\n",
       "    <tr>\n",
       "      <th>1294</th>\n",
       "      <td>77.235832</td>\n",
       "    </tr>\n",
       "    <tr>\n",
       "      <th>1136</th>\n",
       "      <td>76.995064</td>\n",
       "    </tr>\n",
       "    <tr>\n",
       "      <th>1474</th>\n",
       "      <td>76.893272</td>\n",
       "    </tr>\n",
       "  </tbody>\n",
       "</table>\n",
       "</div>"
      ],
      "text/plain": [
       "                 score\n",
       "category_id           \n",
       "1389         78.464760\n",
       "1256         77.300613\n",
       "1294         77.235832\n",
       "1136         76.995064\n",
       "1474         76.893272"
      ]
     },
     "execution_count": 113,
     "metadata": {},
     "output_type": "execute_result"
    }
   ],
   "source": [
    "pd.DataFrame(test, columns =['category_id', 'score']).groupby('category_id').mean().sort_values('score',ascending=False).head(5)"
   ]
  }
 ],
 "metadata": {
  "kernelspec": {
   "display_name": "Python 3",
   "language": "python",
   "name": "python3"
  },
  "language_info": {
   "codemirror_mode": {
    "name": "ipython",
    "version": 3
   },
   "file_extension": ".py",
   "mimetype": "text/x-python",
   "name": "python",
   "nbconvert_exporter": "python",
   "pygments_lexer": "ipython3",
   "version": "3.7.10"
  }
 },
 "nbformat": 4,
 "nbformat_minor": 4
}
