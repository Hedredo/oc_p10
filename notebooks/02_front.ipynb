{
 "cells": [
  {
   "cell_type": "code",
   "execution_count": 1,
   "id": "f8ce5786",
   "metadata": {},
   "outputs": [
    {
     "name": "stdout",
     "output_type": "stream",
     "text": [
      "* Running on local URL:  http://127.0.0.1:7860\n",
      "* To create a public link, set `share=True` in `launch()`.\n"
     ]
    },
    {
     "data": {
      "text/html": [
       "<div><iframe src=\"http://127.0.0.1:7860/\" width=\"100%\" height=\"500\" allow=\"autoplay; camera; microphone; clipboard-read; clipboard-write;\" frameborder=\"0\" allowfullscreen></iframe></div>"
      ],
      "text/plain": [
       "<IPython.core.display.HTML object>"
      ]
     },
     "metadata": {},
     "output_type": "display_data"
    },
    {
     "data": {
      "text/plain": []
     },
     "execution_count": 1,
     "metadata": {},
     "output_type": "execute_result"
    }
   ],
   "source": [
    "import gradio as gr\n",
    "import pickle\n",
    "import requests\n",
    "import os\n",
    "from constants import ROOT_DIR, USERS_DIR\n",
    "\n",
    "# Initialize environment variables\n",
    "AZ_CODE = os.environ.get(\"AZ_CODE\")\n",
    "API_URL = os.environ.get(\"API_URL\")\n",
    "\n",
    "\n",
    "# Functions to load user IDs and get recommendations\n",
    "def load_users(path: str, n_users: int = 25) -> list:\n",
    "    \"\"\"\n",
    "    Load user IDs from the pickle file and sample a specified number of unique user IDs to return as a sorted list.\n",
    "    \"\"\"\n",
    "    with open(path, \"rb\") as file:\n",
    "        df = pickle.load(file)\n",
    "    user_ids = df[\"user_id\"].sample(n_users).unique().tolist()\n",
    "    # Add non existing users IDS\n",
    "    user_ids.extend([*range(1000000, 1000010, 2)])\n",
    "    return sorted(user_ids)\n",
    "\n",
    "\n",
    "def get_recommendations(\n",
    "    user_id: int, api_url: str = API_URL, az_code: str = AZ_CODE\n",
    ") -> tuple:\n",
    "    \"\"\"\n",
    "    Get article recommendations for a given user ID from the Azure Function API and return the top 5 recommended articles and the recommendation method.\n",
    "    If the API call fails, return an error message.\n",
    "    \"\"\"\n",
    "    params = {\"user_id\": user_id, \"code\": az_code}\n",
    "    try:\n",
    "        response = requests.get(api_url, params=params)\n",
    "        if response.status_code == 200:\n",
    "            data = response.json()\n",
    "            recommendations = data.get(\"recommendations\", [])\n",
    "            method = data.get(\"method\", \"Méthode inconnue\")\n",
    "            return recommendations, method\n",
    "        else:\n",
    "            return f\"Erreur API: {response.status_code} - {response.text}\", \"\"\n",
    "    except Exception as e:\n",
    "        return f\"Erreur lors de la requête: {e}\", \"\"\n",
    "\n",
    "\n",
    "user_ids = load_users(USERS_DIR)\n",
    "\n",
    "iface = gr.Interface(\n",
    "    fn=get_recommendations,\n",
    "    inputs=gr.Dropdown(\n",
    "        choices=user_ids, label=\"Sélectionnez un identifiant utilisateur\"\n",
    "    ),\n",
    "    outputs=[\n",
    "        gr.Textbox(label=\"Articles recommandés (top 5)\"),\n",
    "        gr.Textbox(\n",
    "            label=\"Méthode de recommandation (à masquer pour les utilisateurs finaux)\"\n",
    "        ),\n",
    "    ],\n",
    "    title=\"My Content: Recommandation d'articles\",\n",
    "    description=\"Sélectionnez un identifiant utilisateur pour obtenir 5 recommandations d'articles.\",\n",
    "    submit_btn=\"Recommander\",\n",
    "    clear_btn=\"Effacer\",\n",
    "    flagging_mode=\"never\",\n",
    ")\n",
    "\n",
    "iface.launch()"
   ]
  },
  {
   "cell_type": "code",
   "execution_count": null,
   "id": "ff53f05e",
   "metadata": {},
   "outputs": [
    {
     "name": "stdout",
     "output_type": "stream",
     "text": [
      "* Running on local URL:  http://127.0.0.1:7862\n",
      "* To create a public link, set `share=True` in `launch()`.\n"
     ]
    },
    {
     "data": {
      "text/html": [
       "<div><iframe src=\"http://127.0.0.1:7862/\" width=\"100%\" height=\"500\" allow=\"autoplay; camera; microphone; clipboard-read; clipboard-write;\" frameborder=\"0\" allowfullscreen></iframe></div>"
      ],
      "text/plain": [
       "<IPython.core.display.HTML object>"
      ]
     },
     "metadata": {},
     "output_type": "display_data"
    },
    {
     "data": {
      "text/plain": []
     },
     "execution_count": 5,
     "metadata": {},
     "output_type": "execute_result"
    }
   ],
   "source": [
    "import os\n",
    "import gradio as gr\n",
    "import requests\n",
    "\n",
    "\n",
    "AZ_CODE = os.environ.get(\"AZ_CODE\")\n",
    "API_URL = os.environ.get(\"API_URL\")\n",
    "user_ids = load_users(os.path.join(ROOT_DIR, \"data\", \"merged_df.pickle\"))\n",
    "\n",
    "\n",
    "def get_recommendations(user_id):\n",
    "    params = {\"user_id\": user_id, \"code\": AZ_CODE}\n",
    "    try:\n",
    "        response = requests.get(API_URL, params=params)\n",
    "        if response.status_code == 200:\n",
    "            data = response.json()\n",
    "            print(data)\n",
    "            return data.get(\"recommendations\", [])\n",
    "        else:\n",
    "            return f\"Erreur API: {response.status_code} - {response.text}\"\n",
    "    except Exception as e:\n",
    "        return f\"Erreur lors de la requête: {e}\"\n",
    "\n",
    "\n",
    "iface = gr.Interface(\n",
    "    fn=get_recommendations,\n",
    "    inputs=gr.Dropdown(choices=user_ids, label=\"Sélectionnez un user_id\"),\n",
    "    outputs=gr.Textbox(label=\"Articles recommandés (top 5)\"),\n",
    "    title=\"Recommandation d'articles via Azure Functions\",\n",
    "    description=\"Sélectionnez un utilisateur pour obtenir 5 recommandations d'articles.\",\n",
    ")\n",
    "\n",
    "iface.launch()"
   ]
  }
 ],
 "metadata": {
  "kernelspec": {
   "display_name": "oc-p10",
   "language": "python",
   "name": "python3"
  },
  "language_info": {
   "codemirror_mode": {
    "name": "ipython",
    "version": 3
   },
   "file_extension": ".py",
   "mimetype": "text/x-python",
   "name": "python",
   "nbconvert_exporter": "python",
   "pygments_lexer": "ipython3",
   "version": "3.12.8"
  }
 },
 "nbformat": 4,
 "nbformat_minor": 5
}
